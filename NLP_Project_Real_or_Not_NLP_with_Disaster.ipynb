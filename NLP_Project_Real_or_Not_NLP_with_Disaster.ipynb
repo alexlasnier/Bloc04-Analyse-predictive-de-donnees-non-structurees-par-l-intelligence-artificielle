{
  "cells": [
    {
      "cell_type": "code",
      "execution_count": 1,
      "metadata": {
        "id": "iWjLLifPHZB7",
        "outputId": "e454ef3a-e9f7-474f-c94f-77add54e729b",
        "colab": {
          "base_uri": "https://localhost:8080/",
          "height": 185
        }
      },
      "outputs": [
        {
          "output_type": "execute_result",
          "data": {
            "text/plain": [
              "<IPython.core.display.Image object>"
            ],
            "image/png": "[encoded data removed]"
          },
          "metadata": {},
          "execution_count": 1
        }
      ],
      "source": [
        "from IPython.display import Image\n",
        "Image(filename=\"Unknown.png\")"
      ]
    },
    {
      "cell_type": "markdown",
      "metadata": {
        "id": "lYXgsI1E3uhf"
      },
      "source": [
        "# Projet - Real or Not? NLP with Disaster Tweets\n",
        "\n",
        "## Project description \n",
        "\n",
        "* Competition - https://www.kaggle.com/c/nlp-getting-started"
      ]
    },
    {
      "cell_type": "code",
      "execution_count": 2,
      "metadata": {
        "id": "y1ogUcwv3uhj"
      },
      "outputs": [],
      "source": [
        "import pandas as pd\n",
        "import numpy as np\n",
        "import tensorflow as tf\n",
        "\n",
        "import spacy\n",
        "nlp = spacy.load('en_core_web_sm')\n",
        "from spacy.lang.en.stop_words import STOP_WORDS\n",
        "\n",
        "from tensorflow.keras import Sequential\n",
        "from tensorflow.keras.layers import Dense, Embedding, GlobalAveragePooling1D, SimpleRNN\n",
        "from tensorflow.keras.layers.experimental.preprocessing import TextVectorization\n",
        "from sklearn.model_selection import train_test_split\n",
        "\n",
        "import plotly.express as px\n",
        "import matplotlib.pyplot as plt\n",
        "%matplotlib inline"
      ]
    },
    {
      "cell_type": "markdown",
      "metadata": {
        "id": "TO_fo4gb3_HU"
      },
      "source": [
        "# Embedding"
      ]
    },
    {
      "cell_type": "markdown",
      "metadata": {
        "id": "1sKhJCYJ5qQ9"
      },
      "source": [
        "## Imports datas"
      ]
    },
    {
      "cell_type": "code",
      "execution_count": 3,
      "metadata": {
        "colab": {
          "base_uri": "https://localhost:8080/",
          "height": 204
        },
        "id": "AqPlxN2a3uhk",
        "outputId": "be31343b-8b14-4335-d993-5625cd99d845"
      },
      "outputs": [
        {
          "output_type": "execute_result",
          "data": {
            "text/plain": [
              "   id keyword location                                               text  \\\n",
              "0   1     NaN      NaN  Our Deeds are the Reason of this #earthquake M...   \n",
              "1   4     NaN      NaN             Forest fire near La Ronge Sask. Canada   \n",
              "2   5     NaN      NaN  All residents asked to 'shelter in place' are ...   \n",
              "3   6     NaN      NaN  13,000 people receive #wildfires evacuation or...   \n",
              "4   7     NaN      NaN  Just got sent this photo from Ruby #Alaska as ...   \n",
              "\n",
              "   target  \n",
              "0       1  \n",
              "1       1  \n",
              "2       1  \n",
              "3       1  \n",
              "4       1  "
            ],
            "text/html": [
              "\n",
              "  <div id=\"df-18ce3105-f838-4f22-8b66-0b28d503ae14\">\n",
              "    <div class=\"colab-df-container\">\n",
              "      <div>\n",
              "<style scoped>\n",
              "    .dataframe tbody tr th:only-of-type {\n",
              "        vertical-align: middle;\n",
              "    }\n",
              "\n",
              "    .dataframe tbody tr th {\n",
              "        vertical-align: top;\n",
              "    }\n",
              "\n",
              "    .dataframe thead th {\n",
              "        text-align: right;\n",
              "    }\n",
              "</style>\n",
              "<table border=\"1\" class=\"dataframe\">\n",
              "  <thead>\n",
              "    <tr style=\"text-align: right;\">\n",
              "      <th></th>\n",
              "      <th>id</th>\n",
              "      <th>keyword</th>\n",
              "      <th>location</th>\n",
              "      <th>text</th>\n",
              "      <th>target</th>\n",
              "    </tr>\n",
              "  </thead>\n",
              "  <tbody>\n",
              "    <tr>\n",
              "      <th>0</th>\n",
              "      <td>1</td>\n",
              "      <td>NaN</td>\n",
              "      <td>NaN</td>\n",
              "      <td>Our Deeds are the Reason of this #earthquake M...</td>\n",
              "      <td>1</td>\n",
              "    </tr>\n",
              "    <tr>\n",
              "      <th>1</th>\n",
              "      <td>4</td>\n",
              "      <td>NaN</td>\n",
              "      <td>NaN</td>\n",
              "      <td>Forest fire near La Ronge Sask. Canada</td>\n",
              "      <td>1</td>\n",
              "    </tr>\n",
              "    <tr>\n",
              "      <th>2</th>\n",
              "      <td>5</td>\n",
              "      <td>NaN</td>\n",
              "      <td>NaN</td>\n",
              "      <td>All residents asked to 'shelter in place' are ...</td>\n",
              "      <td>1</td>\n",
              "    </tr>\n",
              "    <tr>\n",
              "      <th>3</th>\n",
              "      <td>6</td>\n",
              "      <td>NaN</td>\n",
              "      <td>NaN</td>\n",
              "      <td>13,000 people receive #wildfires evacuation or...</td>\n",
              "      <td>1</td>\n",
              "    </tr>\n",
              "    <tr>\n",
              "      <th>4</th>\n",
              "      <td>7</td>\n",
              "      <td>NaN</td>\n",
              "      <td>NaN</td>\n",
              "      <td>Just got sent this photo from Ruby #Alaska as ...</td>\n",
              "      <td>1</td>\n",
              "    </tr>\n",
              "  </tbody>\n",
              "</table>\n",
              "</div>\n",
              "      <button class=\"colab-df-convert\" onclick=\"convertToInteractive('df-18ce3105-f838-4f22-8b66-0b28d503ae14')\"\n",
              "              title=\"Convert this dataframe to an interactive table.\"\n",
              "              style=\"display:none;\">\n",
              "        \n",
              "  <svg xmlns=\"http://www.w3.org/2000/svg\" height=\"24px\"viewBox=\"0 0 24 24\"\n",
              "       width=\"24px\">\n",
              "    <path d=\"M0 0h24v24H0V0z\" fill=\"none\"/>\n",
              "    <path d=\"M18.56 5.44l.94 2.06.94-2.06 2.06-.94-2.06-.94-.94-2.06-.94 2.06-2.06.94zm-11 1L8.5 8.5l.94-2.06 2.06-.94-2.06-.94L8.5 2.5l-.94 2.06-2.06.94zm10 10l.94 2.06.94-2.06 2.06-.94-2.06-.94-.94-2.06-.94 2.06-2.06.94z\"/><path d=\"M17.41 7.96l-1.37-1.37c-.4-.4-.92-.59-1.43-.59-.52 0-1.04.2-1.43.59L10.3 9.45l-7.72 7.72c-.78.78-.78 2.05 0 2.83L4 21.41c.39.39.9.59 1.41.59.51 0 1.02-.2 1.41-.59l7.78-7.78 2.81-2.81c.8-.78.8-2.07 0-2.86zM5.41 20L4 18.59l7.72-7.72 1.47 1.35L5.41 20z\"/>\n",
              "  </svg>\n",
              "      </button>\n",
              "      \n",
              "  <style>\n",
              "    .colab-df-container {\n",
              "      display:flex;\n",
              "      flex-wrap:wrap;\n",
              "      gap: 12px;\n",
              "    }\n",
              "\n",
              "    .colab-df-convert {\n",
              "      background-color: #E8F0FE;\n",
              "      border: none;\n",
              "      border-radius: 50%;\n",
              "      cursor: pointer;\n",
              "      display: none;\n",
              "      fill: #1967D2;\n",
              "      height: 32px;\n",
              "      padding: 0 0 0 0;\n",
              "      width: 32px;\n",
              "    }\n",
              "\n",
              "    .colab-df-convert:hover {\n",
              "      background-color: #E2EBFA;\n",
              "      box-shadow: 0px 1px 2px rgba(60, 64, 67, 0.3), 0px 1px 3px 1px rgba(60, 64, 67, 0.15);\n",
              "      fill: #174EA6;\n",
              "    }\n",
              "\n",
              "    [theme=dark] .colab-df-convert {\n",
              "      background-color: #3B4455;\n",
              "      fill: #D2E3FC;\n",
              "    }\n",
              "\n",
              "    [theme=dark] .colab-df-convert:hover {\n",
              "      background-color: #434B5C;\n",
              "      box-shadow: 0px 1px 3px 1px rgba(0, 0, 0, 0.15);\n",
              "      filter: drop-shadow(0px 1px 2px rgba(0, 0, 0, 0.3));\n",
              "      fill: #FFFFFF;\n",
              "    }\n",
              "  </style>\n",
              "\n",
              "      <script>\n",
              "        const buttonEl =\n",
              "          document.querySelector('#df-18ce3105-f838-4f22-8b66-0b28d503ae14 button.colab-df-convert');\n",
              "        buttonEl.style.display =\n",
              "          google.colab.kernel.accessAllowed ? 'block' : 'none';\n",
              "\n",
              "        async function convertToInteractive(key) {\n",
              "          const element = document.querySelector('#df-18ce3105-f838-4f22-8b66-0b28d503ae14');\n",
              "          const dataTable =\n",
              "            await google.colab.kernel.invokeFunction('convertToInteractive',\n",
              "                                                     [key], {});\n",
              "          if (!dataTable) return;\n",
              "\n",
              "          const docLinkHtml = 'Like what you see? Visit the ' +\n",
              "            '<a target=\"_blank\" href=https://colab.research.google.com/notebooks/data_table.ipynb>data table notebook</a>'\n",
              "            + ' to learn more about interactive tables.';\n",
              "          element.innerHTML = '';\n",
              "          dataTable['output_type'] = 'display_data';\n",
              "          await google.colab.output.renderOutput(dataTable, element);\n",
              "          const docLink = document.createElement('div');\n",
              "          docLink.innerHTML = docLinkHtml;\n",
              "          element.appendChild(docLink);\n",
              "        }\n",
              "      </script>\n",
              "    </div>\n",
              "  </div>\n",
              "  "
            ]
          },
          "metadata": {},
          "execution_count": 3
        }
      ],
      "source": [
        "# df will be used to train and evaluate the model\n",
        "df = pd.read_csv('train.csv')\n",
        "df.head()\n"
      ]
    },
    {
      "cell_type": "code",
      "execution_count": 4,
      "metadata": {
        "colab": {
          "base_uri": "https://localhost:8080/"
        },
        "id": "xYgENjaFtCNl",
        "outputId": "bd4effaf-f508-411e-e952-59859d274e56"
      },
      "outputs": [
        {
          "output_type": "stream",
          "name": "stdout",
          "text": [
            "we deleted 110 duplicates\n"
          ]
        }
      ],
      "source": [
        "len_before = len(df)\n",
        "df = df.drop_duplicates(subset = ['text'])\n",
        "len_after = len(df)\n",
        "print('we deleted', len_before - len_after, 'duplicates')"
      ]
    },
    {
      "cell_type": "code",
      "execution_count": 5,
      "metadata": {
        "colab": {
          "base_uri": "https://localhost:8080/"
        },
        "id": "HJeWOMX9tYqJ",
        "outputId": "138ad303-cde5-4def-be7f-ae309484cb9d"
      },
      "outputs": [
        {
          "output_type": "execute_result",
          "data": {
            "text/plain": [
              "(7503, 5)"
            ]
          },
          "metadata": {},
          "execution_count": 5
        }
      ],
      "source": [
        "df.shape"
      ]
    },
    {
      "cell_type": "code",
      "execution_count": 6,
      "metadata": {
        "colab": {
          "base_uri": "https://localhost:8080/",
          "height": 37
        },
        "id": "K8Bmhz_34Rsw",
        "outputId": "375fc24f-e0c2-4937-e0d0-466582d7dcf5"
      },
      "outputs": [
        {
          "output_type": "execute_result",
          "data": {
            "text/plain": [
              "'I love fruits'"
            ],
            "application/vnd.google.colaboratory.intrinsic+json": {
              "type": "string"
            }
          },
          "metadata": {},
          "execution_count": 6
        }
      ],
      "source": [
        "#Example of NOT a disaster tweet\n",
        "\n",
        "df[df[\"target\"] == 0][\"text\"].values[1]"
      ]
    },
    {
      "cell_type": "code",
      "execution_count": 7,
      "metadata": {
        "colab": {
          "base_uri": "https://localhost:8080/",
          "height": 37
        },
        "id": "n_Of9Akk5Tvl",
        "outputId": "b549fbfd-37d4-4a77-9c63-8a5bea41bfb5"
      },
      "outputs": [
        {
          "output_type": "execute_result",
          "data": {
            "text/plain": [
              "'Forest fire near La Ronge Sask. Canada'"
            ],
            "application/vnd.google.colaboratory.intrinsic+json": {
              "type": "string"
            }
          },
          "metadata": {},
          "execution_count": 7
        }
      ],
      "source": [
        "# Example of a disaster tweet\n",
        "\n",
        "df[df[\"target\"] == 1][\"text\"].values[1]"
      ]
    },
    {
      "cell_type": "markdown",
      "metadata": {
        "id": "OESxT9Lo87fX"
      },
      "source": [
        "## Clean / Preprocess the text"
      ]
    },
    {
      "cell_type": "code",
      "execution_count": 8,
      "metadata": {
        "id": "b0Ktc3GJ5Wcm"
      },
      "outputs": [],
      "source": [
        "# Remove all non alphanumeric characters except whitespaces\n",
        "df[\"text_clean\"] = df[\"text\"].apply(lambda x:''.join(ch for ch in x if ch.isalnum() or ch==\" \"))\n",
        "# remove double spaces and spaces at the beginning and end of strings\n",
        "df[\"text_clean\"] = df[\"text_clean\"].apply(lambda x: x.replace(\" +\",\" \").lower().strip())\n",
        "# remove stop words and replace everyword with their lemma\n",
        "df[\"text_clean\"] = df[\"text_clean\"].apply(lambda x: \" \".join([token.lemma_ for token in nlp(x) if (token.lemma_ not in STOP_WORDS) & (token.text not in STOP_WORDS)]))\n"
      ]
    },
    {
      "cell_type": "markdown",
      "metadata": {
        "id": "D_VED0EV_LO-"
      },
      "source": [
        "## Encode token as integer"
      ]
    },
    {
      "cell_type": "code",
      "execution_count": 9,
      "metadata": {
        "colab": {
          "base_uri": "https://localhost:8080/",
          "height": 204
        },
        "id": "lIcqEzzY_XGZ",
        "outputId": "9531371c-c7cc-4015-c683-25c7d24c541d"
      },
      "outputs": [
        {
          "output_type": "execute_result",
          "data": {
            "text/plain": [
              "   id keyword location                                               text  \\\n",
              "0   1     NaN      NaN  Our Deeds are the Reason of this #earthquake M...   \n",
              "1   4     NaN      NaN             Forest fire near La Ronge Sask. Canada   \n",
              "2   5     NaN      NaN  All residents asked to 'shelter in place' are ...   \n",
              "3   6     NaN      NaN  13,000 people receive #wildfires evacuation or...   \n",
              "4   7     NaN      NaN  Just got sent this photo from Ruby #Alaska as ...   \n",
              "\n",
              "   target                                         text_clean  \n",
              "0       1               deed reason earthquake allah forgive  \n",
              "1       1              forest fire near la ronge sask canada  \n",
              "2       1  resident ask shelter place notify officer evac...  \n",
              "3       1  13000 people receive wildfire evacuation order...  \n",
              "4       1  got send photo ruby alaska smoke wildfire pour...  "
            ],
            "text/html": [
              "\n",
              "  <div id=\"df-42929b7e-5927-44f3-bc74-c68223222e79\">\n",
              "    <div class=\"colab-df-container\">\n",
              "      <div>\n",
              "<style scoped>\n",
              "    .dataframe tbody tr th:only-of-type {\n",
              "        vertical-align: middle;\n",
              "    }\n",
              "\n",
              "    .dataframe tbody tr th {\n",
              "        vertical-align: top;\n",
              "    }\n",
              "\n",
              "    .dataframe thead th {\n",
              "        text-align: right;\n",
              "    }\n",
              "</style>\n",
              "<table border=\"1\" class=\"dataframe\">\n",
              "  <thead>\n",
              "    <tr style=\"text-align: right;\">\n",
              "      <th></th>\n",
              "      <th>id</th>\n",
              "      <th>keyword</th>\n",
              "      <th>location</th>\n",
              "      <th>text</th>\n",
              "      <th>target</th>\n",
              "      <th>text_clean</th>\n",
              "    </tr>\n",
              "  </thead>\n",
              "  <tbody>\n",
              "    <tr>\n",
              "      <th>0</th>\n",
              "      <td>1</td>\n",
              "      <td>NaN</td>\n",
              "      <td>NaN</td>\n",
              "      <td>Our Deeds are the Reason of this #earthquake M...</td>\n",
              "      <td>1</td>\n",
              "      <td>deed reason earthquake allah forgive</td>\n",
              "    </tr>\n",
              "    <tr>\n",
              "      <th>1</th>\n",
              "      <td>4</td>\n",
              "      <td>NaN</td>\n",
              "      <td>NaN</td>\n",
              "      <td>Forest fire near La Ronge Sask. Canada</td>\n",
              "      <td>1</td>\n",
              "      <td>forest fire near la ronge sask canada</td>\n",
              "    </tr>\n",
              "    <tr>\n",
              "      <th>2</th>\n",
              "      <td>5</td>\n",
              "      <td>NaN</td>\n",
              "      <td>NaN</td>\n",
              "      <td>All residents asked to 'shelter in place' are ...</td>\n",
              "      <td>1</td>\n",
              "      <td>resident ask shelter place notify officer evac...</td>\n",
              "    </tr>\n",
              "    <tr>\n",
              "      <th>3</th>\n",
              "      <td>6</td>\n",
              "      <td>NaN</td>\n",
              "      <td>NaN</td>\n",
              "      <td>13,000 people receive #wildfires evacuation or...</td>\n",
              "      <td>1</td>\n",
              "      <td>13000 people receive wildfire evacuation order...</td>\n",
              "    </tr>\n",
              "    <tr>\n",
              "      <th>4</th>\n",
              "      <td>7</td>\n",
              "      <td>NaN</td>\n",
              "      <td>NaN</td>\n",
              "      <td>Just got sent this photo from Ruby #Alaska as ...</td>\n",
              "      <td>1</td>\n",
              "      <td>got send photo ruby alaska smoke wildfire pour...</td>\n",
              "    </tr>\n",
              "  </tbody>\n",
              "</table>\n",
              "</div>\n",
              "      <button class=\"colab-df-convert\" onclick=\"convertToInteractive('df-42929b7e-5927-44f3-bc74-c68223222e79')\"\n",
              "              title=\"Convert this dataframe to an interactive table.\"\n",
              "              style=\"display:none;\">\n",
              "        \n",
              "  <svg xmlns=\"http://www.w3.org/2000/svg\" height=\"24px\"viewBox=\"0 0 24 24\"\n",
              "       width=\"24px\">\n",
              "    <path d=\"M0 0h24v24H0V0z\" fill=\"none\"/>\n",
              "    <path d=\"M18.56 5.44l.94 2.06.94-2.06 2.06-.94-2.06-.94-.94-2.06-.94 2.06-2.06.94zm-11 1L8.5 8.5l.94-2.06 2.06-.94-2.06-.94L8.5 2.5l-.94 2.06-2.06.94zm10 10l.94 2.06.94-2.06 2.06-.94-2.06-.94-.94-2.06-.94 2.06-2.06.94z\"/><path d=\"M17.41 7.96l-1.37-1.37c-.4-.4-.92-.59-1.43-.59-.52 0-1.04.2-1.43.59L10.3 9.45l-7.72 7.72c-.78.78-.78 2.05 0 2.83L4 21.41c.39.39.9.59 1.41.59.51 0 1.02-.2 1.41-.59l7.78-7.78 2.81-2.81c.8-.78.8-2.07 0-2.86zM5.41 20L4 18.59l7.72-7.72 1.47 1.35L5.41 20z\"/>\n",
              "  </svg>\n",
              "      </button>\n",
              "      \n",
              "  <style>\n",
              "    .colab-df-container {\n",
              "      display:flex;\n",
              "      flex-wrap:wrap;\n",
              "      gap: 12px;\n",
              "    }\n",
              "\n",
              "    .colab-df-convert {\n",
              "      background-color: #E8F0FE;\n",
              "      border: none;\n",
              "      border-radius: 50%;\n",
              "      cursor: pointer;\n",
              "      display: none;\n",
              "      fill: #1967D2;\n",
              "      height: 32px;\n",
              "      padding: 0 0 0 0;\n",
              "      width: 32px;\n",
              "    }\n",
              "\n",
              "    .colab-df-convert:hover {\n",
              "      background-color: #E2EBFA;\n",
              "      box-shadow: 0px 1px 2px rgba(60, 64, 67, 0.3), 0px 1px 3px 1px rgba(60, 64, 67, 0.15);\n",
              "      fill: #174EA6;\n",
              "    }\n",
              "\n",
              "    [theme=dark] .colab-df-convert {\n",
              "      background-color: #3B4455;\n",
              "      fill: #D2E3FC;\n",
              "    }\n",
              "\n",
              "    [theme=dark] .colab-df-convert:hover {\n",
              "      background-color: #434B5C;\n",
              "      box-shadow: 0px 1px 3px 1px rgba(0, 0, 0, 0.15);\n",
              "      filter: drop-shadow(0px 1px 2px rgba(0, 0, 0, 0.3));\n",
              "      fill: #FFFFFF;\n",
              "    }\n",
              "  </style>\n",
              "\n",
              "      <script>\n",
              "        const buttonEl =\n",
              "          document.querySelector('#df-42929b7e-5927-44f3-bc74-c68223222e79 button.colab-df-convert');\n",
              "        buttonEl.style.display =\n",
              "          google.colab.kernel.accessAllowed ? 'block' : 'none';\n",
              "\n",
              "        async function convertToInteractive(key) {\n",
              "          const element = document.querySelector('#df-42929b7e-5927-44f3-bc74-c68223222e79');\n",
              "          const dataTable =\n",
              "            await google.colab.kernel.invokeFunction('convertToInteractive',\n",
              "                                                     [key], {});\n",
              "          if (!dataTable) return;\n",
              "\n",
              "          const docLinkHtml = 'Like what you see? Visit the ' +\n",
              "            '<a target=\"_blank\" href=https://colab.research.google.com/notebooks/data_table.ipynb>data table notebook</a>'\n",
              "            + ' to learn more about interactive tables.';\n",
              "          element.innerHTML = '';\n",
              "          dataTable['output_type'] = 'display_data';\n",
              "          await google.colab.output.renderOutput(dataTable, element);\n",
              "          const docLink = document.createElement('div');\n",
              "          docLink.innerHTML = docLinkHtml;\n",
              "          element.appendChild(docLink);\n",
              "        }\n",
              "      </script>\n",
              "    </div>\n",
              "  </div>\n",
              "  "
            ]
          },
          "metadata": {},
          "execution_count": 9
        }
      ],
      "source": [
        "df.head()"
      ]
    },
    {
      "cell_type": "code",
      "execution_count": 10,
      "metadata": {
        "id": "1O_KKmys--97"
      },
      "outputs": [],
      "source": [
        "tokenizer = tf.keras.preprocessing.text.Tokenizer(num_words=10000) # instanciate the tokenizer\n",
        "# num_words indicates the number of words to keep in the tokenization\n",
        "# keeps only the most common words\n",
        "\n",
        "tokenizer.fit_on_texts(df.text_clean)\n",
        "# fit the tokenizer on the texts\n",
        "# in this step the tokenizer will list all unique tokens in the text\n",
        "# and associate them with a specific integer.\n",
        "\n",
        "# This step will effectively transform the texts into sequences of indices\n",
        "df[\"text_encoded\"] = tokenizer.texts_to_sequences(df.text_clean)\n",
        "\n",
        "\n",
        "# Sometimes the preprocessing removes all the words in a string (because they contain\n",
        "# only stopwords for example) so we calculate the length in order to filter out\n",
        "# those records\n",
        "df[\"len_text\"] = df[\"text_encoded\"].apply(lambda x: len(x))\n",
        "df = df[df[\"len_text\"]!=0]\n"
      ]
    },
    {
      "cell_type": "code",
      "execution_count": 11,
      "metadata": {
        "colab": {
          "base_uri": "https://localhost:8080/",
          "height": 204
        },
        "id": "I0tj7fAa_fKF",
        "outputId": "9651a895-a4fb-427f-84fd-3871d2251c1d"
      },
      "outputs": [
        {
          "output_type": "execute_result",
          "data": {
            "text/plain": [
              "   id keyword location                                               text  \\\n",
              "0   1     NaN      NaN  Our Deeds are the Reason of this #earthquake M...   \n",
              "1   4     NaN      NaN             Forest fire near La Ronge Sask. Canada   \n",
              "2   5     NaN      NaN  All residents asked to 'shelter in place' are ...   \n",
              "3   6     NaN      NaN  13,000 people receive #wildfires evacuation or...   \n",
              "4   7     NaN      NaN  Just got sent this photo from Ruby #Alaska as ...   \n",
              "\n",
              "   target                                         text_clean  \\\n",
              "0       1               deed reason earthquake allah forgive   \n",
              "1       1              forest fire near la ronge sask canada   \n",
              "2       1  resident ask shelter place notify officer evac...   \n",
              "3       1  13000 people receive wildfire evacuation order...   \n",
              "4       1  got send photo ruby alaska smoke wildfire pour...   \n",
              "\n",
              "                                        text_encoded  len_text  \n",
              "0                       [3614, 406, 175, 1663, 1901]         5  \n",
              "1                [115, 3, 162, 505, 5444, 5445, 998]         7  \n",
              "2  [1358, 440, 1664, 323, 5446, 284, 206, 1664, 3...        11  \n",
              "3                  [2268, 7, 2269, 68, 206, 295, 34]         7  \n",
              "4    [269, 176, 121, 5447, 1665, 163, 68, 2270, 112]         9  "
            ],
            "text/html": [
              "\n",
              "  <div id=\"df-c55cca8d-2b77-47a2-b16f-93a21373034a\">\n",
              "    <div class=\"colab-df-container\">\n",
              "      <div>\n",
              "<style scoped>\n",
              "    .dataframe tbody tr th:only-of-type {\n",
              "        vertical-align: middle;\n",
              "    }\n",
              "\n",
              "    .dataframe tbody tr th {\n",
              "        vertical-align: top;\n",
              "    }\n",
              "\n",
              "    .dataframe thead th {\n",
              "        text-align: right;\n",
              "    }\n",
              "</style>\n",
              "<table border=\"1\" class=\"dataframe\">\n",
              "  <thead>\n",
              "    <tr style=\"text-align: right;\">\n",
              "      <th></th>\n",
              "      <th>id</th>\n",
              "      <th>keyword</th>\n",
              "      <th>location</th>\n",
              "      <th>text</th>\n",
              "      <th>target</th>\n",
              "      <th>text_clean</th>\n",
              "      <th>text_encoded</th>\n",
              "      <th>len_text</th>\n",
              "    </tr>\n",
              "  </thead>\n",
              "  <tbody>\n",
              "    <tr>\n",
              "      <th>0</th>\n",
              "      <td>1</td>\n",
              "      <td>NaN</td>\n",
              "      <td>NaN</td>\n",
              "      <td>Our Deeds are the Reason of this #earthquake M...</td>\n",
              "      <td>1</td>\n",
              "      <td>deed reason earthquake allah forgive</td>\n",
              "      <td>[3614, 406, 175, 1663, 1901]</td>\n",
              "      <td>5</td>\n",
              "    </tr>\n",
              "    <tr>\n",
              "      <th>1</th>\n",
              "      <td>4</td>\n",
              "      <td>NaN</td>\n",
              "      <td>NaN</td>\n",
              "      <td>Forest fire near La Ronge Sask. Canada</td>\n",
              "      <td>1</td>\n",
              "      <td>forest fire near la ronge sask canada</td>\n",
              "      <td>[115, 3, 162, 505, 5444, 5445, 998]</td>\n",
              "      <td>7</td>\n",
              "    </tr>\n",
              "    <tr>\n",
              "      <th>2</th>\n",
              "      <td>5</td>\n",
              "      <td>NaN</td>\n",
              "      <td>NaN</td>\n",
              "      <td>All residents asked to 'shelter in place' are ...</td>\n",
              "      <td>1</td>\n",
              "      <td>resident ask shelter place notify officer evac...</td>\n",
              "      <td>[1358, 440, 1664, 323, 5446, 284, 206, 1664, 3...</td>\n",
              "      <td>11</td>\n",
              "    </tr>\n",
              "    <tr>\n",
              "      <th>3</th>\n",
              "      <td>6</td>\n",
              "      <td>NaN</td>\n",
              "      <td>NaN</td>\n",
              "      <td>13,000 people receive #wildfires evacuation or...</td>\n",
              "      <td>1</td>\n",
              "      <td>13000 people receive wildfire evacuation order...</td>\n",
              "      <td>[2268, 7, 2269, 68, 206, 295, 34]</td>\n",
              "      <td>7</td>\n",
              "    </tr>\n",
              "    <tr>\n",
              "      <th>4</th>\n",
              "      <td>7</td>\n",
              "      <td>NaN</td>\n",
              "      <td>NaN</td>\n",
              "      <td>Just got sent this photo from Ruby #Alaska as ...</td>\n",
              "      <td>1</td>\n",
              "      <td>got send photo ruby alaska smoke wildfire pour...</td>\n",
              "      <td>[269, 176, 121, 5447, 1665, 163, 68, 2270, 112]</td>\n",
              "      <td>9</td>\n",
              "    </tr>\n",
              "  </tbody>\n",
              "</table>\n",
              "</div>\n",
              "      <button class=\"colab-df-convert\" onclick=\"convertToInteractive('df-c55cca8d-2b77-47a2-b16f-93a21373034a')\"\n",
              "              title=\"Convert this dataframe to an interactive table.\"\n",
              "              style=\"display:none;\">\n",
              "        \n",
              "  <svg xmlns=\"http://www.w3.org/2000/svg\" height=\"24px\"viewBox=\"0 0 24 24\"\n",
              "       width=\"24px\">\n",
              "    <path d=\"M0 0h24v24H0V0z\" fill=\"none\"/>\n",
              "    <path d=\"M18.56 5.44l.94 2.06.94-2.06 2.06-.94-2.06-.94-.94-2.06-.94 2.06-2.06.94zm-11 1L8.5 8.5l.94-2.06 2.06-.94-2.06-.94L8.5 2.5l-.94 2.06-2.06.94zm10 10l.94 2.06.94-2.06 2.06-.94-2.06-.94-.94-2.06-.94 2.06-2.06.94z\"/><path d=\"M17.41 7.96l-1.37-1.37c-.4-.4-.92-.59-1.43-.59-.52 0-1.04.2-1.43.59L10.3 9.45l-7.72 7.72c-.78.78-.78 2.05 0 2.83L4 21.41c.39.39.9.59 1.41.59.51 0 1.02-.2 1.41-.59l7.78-7.78 2.81-2.81c.8-.78.8-2.07 0-2.86zM5.41 20L4 18.59l7.72-7.72 1.47 1.35L5.41 20z\"/>\n",
              "  </svg>\n",
              "      </button>\n",
              "      \n",
              "  <style>\n",
              "    .colab-df-container {\n",
              "      display:flex;\n",
              "      flex-wrap:wrap;\n",
              "      gap: 12px;\n",
              "    }\n",
              "\n",
              "    .colab-df-convert {\n",
              "      background-color: #E8F0FE;\n",
              "      border: none;\n",
              "      border-radius: 50%;\n",
              "      cursor: pointer;\n",
              "      display: none;\n",
              "      fill: #1967D2;\n",
              "      height: 32px;\n",
              "      padding: 0 0 0 0;\n",
              "      width: 32px;\n",
              "    }\n",
              "\n",
              "    .colab-df-convert:hover {\n",
              "      background-color: #E2EBFA;\n",
              "      box-shadow: 0px 1px 2px rgba(60, 64, 67, 0.3), 0px 1px 3px 1px rgba(60, 64, 67, 0.15);\n",
              "      fill: #174EA6;\n",
              "    }\n",
              "\n",
              "    [theme=dark] .colab-df-convert {\n",
              "      background-color: #3B4455;\n",
              "      fill: #D2E3FC;\n",
              "    }\n",
              "\n",
              "    [theme=dark] .colab-df-convert:hover {\n",
              "      background-color: #434B5C;\n",
              "      box-shadow: 0px 1px 3px 1px rgba(0, 0, 0, 0.15);\n",
              "      filter: drop-shadow(0px 1px 2px rgba(0, 0, 0, 0.3));\n",
              "      fill: #FFFFFF;\n",
              "    }\n",
              "  </style>\n",
              "\n",
              "      <script>\n",
              "        const buttonEl =\n",
              "          document.querySelector('#df-c55cca8d-2b77-47a2-b16f-93a21373034a button.colab-df-convert');\n",
              "        buttonEl.style.display =\n",
              "          google.colab.kernel.accessAllowed ? 'block' : 'none';\n",
              "\n",
              "        async function convertToInteractive(key) {\n",
              "          const element = document.querySelector('#df-c55cca8d-2b77-47a2-b16f-93a21373034a');\n",
              "          const dataTable =\n",
              "            await google.colab.kernel.invokeFunction('convertToInteractive',\n",
              "                                                     [key], {});\n",
              "          if (!dataTable) return;\n",
              "\n",
              "          const docLinkHtml = 'Like what you see? Visit the ' +\n",
              "            '<a target=\"_blank\" href=https://colab.research.google.com/notebooks/data_table.ipynb>data table notebook</a>'\n",
              "            + ' to learn more about interactive tables.';\n",
              "          element.innerHTML = '';\n",
              "          dataTable['output_type'] = 'display_data';\n",
              "          await google.colab.output.renderOutput(dataTable, element);\n",
              "          const docLink = document.createElement('div');\n",
              "          docLink.innerHTML = docLinkHtml;\n",
              "          element.appendChild(docLink);\n",
              "        }\n",
              "      </script>\n",
              "    </div>\n",
              "  </div>\n",
              "  "
            ]
          },
          "metadata": {},
          "execution_count": 11
        }
      ],
      "source": [
        "df.head()"
      ]
    },
    {
      "cell_type": "markdown",
      "metadata": {
        "id": "eigZUyD9_uwF"
      },
      "source": [
        "## Padding\n",
        "\n",
        "Adding zeros at the end or the beginning of each sentence in order for all sequences to be of the same length. <br>\n",
        "=> to the end for our case"
      ]
    },
    {
      "cell_type": "code",
      "execution_count": 12,
      "metadata": {
        "id": "hNL2pZgM_gRy"
      },
      "outputs": [],
      "source": [
        "df_pad = tf.keras.preprocessing.sequence.pad_sequences(df.text_encoded, padding=\"post\")\n"
      ]
    },
    {
      "cell_type": "code",
      "source": [
        "df_pad"
      ],
      "metadata": {
        "colab": {
          "base_uri": "https://localhost:8080/"
        },
        "id": "Ri0HT3OHrTEs",
        "outputId": "ce7176d7-c4b1-4a04-fd4d-64541f51e213"
      },
      "execution_count": 13,
      "outputs": [
        {
          "output_type": "execute_result",
          "data": {
            "text/plain": [
              "array([[3614,  406,  175, ...,    0,    0,    0],\n",
              "       [ 115,    3,  162, ...,    0,    0,    0],\n",
              "       [1358,  440, 1664, ...,    0,    0,    0],\n",
              "       ...,\n",
              "       [  42,  156,    9, ...,    0,    0,    0],\n",
              "       [ 585,  921,  303, ...,    0,    0,    0],\n",
              "       [ 103,   28,  348, ...,    0,    0,    0]], dtype=int32)"
            ]
          },
          "metadata": {},
          "execution_count": 13
        }
      ]
    },
    {
      "cell_type": "markdown",
      "metadata": {
        "id": "9EbLiB5kIBgY"
      },
      "source": [
        "## Split"
      ]
    },
    {
      "cell_type": "code",
      "execution_count": 14,
      "metadata": {
        "id": "nyre6QZsQQax"
      },
      "outputs": [],
      "source": [
        "# Train test split\n",
        "X_train, X_val, y_train, y_val = train_test_split(df_pad, df[\"target\"], test_size=0.3)\n",
        "\n",
        "# Turns dataframe into tensors\n",
        "train = tf.data.Dataset.from_tensor_slices((X_train, y_train))\n",
        "val = tf.data.Dataset.from_tensor_slices((X_val, y_val))\n",
        "\n",
        "# Create random batches\n",
        "train_batch = train.shuffle(len(train)).batch(64)\n",
        "val_batch = val.shuffle(len(val)).batch(64)"
      ]
    },
    {
      "cell_type": "markdown",
      "metadata": {
        "id": "0XYOheaDBYlD"
      },
      "source": [
        "## Model"
      ]
    },
    {
      "cell_type": "code",
      "execution_count": 15,
      "metadata": {
        "colab": {
          "base_uri": "https://localhost:8080/"
        },
        "id": "QlVa8xl6A5ki",
        "outputId": "c74e88e0-7a17-4b39-dbfa-3366cd5b2d00"
      },
      "outputs": [
        {
          "output_type": "stream",
          "name": "stdout",
          "text": [
            "Model: \"Word_Embedding\"\n",
            "_________________________________________________________________\n",
            " Layer (type)                Output Shape              Param #   \n",
            "=================================================================\n",
            " embedding (Embedding)       (None, None, 16)          160000    \n",
            "                                                                 \n",
            " global_average_pooling1d (G  (None, 16)               0         \n",
            " lobalAveragePooling1D)                                          \n",
            "                                                                 \n",
            " dense (Dense)               (None, 16)                272       \n",
            "                                                                 \n",
            " dense_1 (Dense)             (None, 1)                 17        \n",
            "                                                                 \n",
            "=================================================================\n",
            "Total params: 160,289\n",
            "Trainable params: 160,289\n",
            "Non-trainable params: 0\n",
            "_________________________________________________________________\n"
          ]
        }
      ],
      "source": [
        "embedding_dim=16 # the dimensionality of the representation space\n",
        "\n",
        "vocab_size = tokenizer.num_words # the number of words in the vocabulary\n",
        "model = Sequential([\n",
        "  Embedding(vocab_size, embedding_dim, name=\"embedding\"), # the embedding layer\n",
        "  # the input dim needs to be equal to the size of the vocabulary + 1 (because of\n",
        "  # the zero padding)\n",
        "  GlobalAveragePooling1D(), # this will pick the average for every word in the sentence\n",
        "  # along each dimension of the representation space.\n",
        "  Dense(16, activation='relu'), # a dense layer\n",
        "  Dense(1, activation=\"sigmoid\") # the prediction layer\n",
        "])\n",
        "model._name = \"Word_Embedding\"\n",
        "\n",
        "model.summary()"
      ]
    },
    {
      "cell_type": "code",
      "execution_count": 16,
      "metadata": {
        "colab": {
          "base_uri": "https://localhost:8080/",
          "height": 466
        },
        "id": "WBsHur9-NPSB",
        "outputId": "5988d702-5338-4972-ccab-2f3d8a02e71a"
      },
      "outputs": [
        {
          "output_type": "execute_result",
          "data": {
            "text/plain": [
              "<IPython.core.display.Image object>"
            ],
            "image/png": "[encoded data removed]"
          },
          "metadata": {},
          "execution_count": 16
        }
      ],
      "source": [
        "tf.keras.utils.plot_model(\n",
        "    model, show_shapes=False, show_layer_names=True\n",
        ")"
      ]
    },
    {
      "cell_type": "code",
      "execution_count": 17,
      "metadata": {
        "colab": {
          "base_uri": "https://localhost:8080/"
        },
        "id": "JJwn0ExXBdlN",
        "outputId": "39eaa73e-a1b3-4ee7-defe-41cc46460496"
      },
      "outputs": [
        {
          "output_type": "stream",
          "name": "stdout",
          "text": [
            "Epoch 1/20\n",
            "82/82 [==============================] - 1s 9ms/step - loss: 0.6822 - binary_accuracy: 0.5668 - val_loss: 0.6668 - val_binary_accuracy: 0.5899\n",
            "Epoch 2/20\n",
            "82/82 [==============================] - 0s 6ms/step - loss: 0.6639 - binary_accuracy: 0.5681 - val_loss: 0.6435 - val_binary_accuracy: 0.6033\n",
            "Epoch 3/20\n",
            "82/82 [==============================] - 0s 6ms/step - loss: 0.6208 - binary_accuracy: 0.6473 - val_loss: 0.5917 - val_binary_accuracy: 0.7084\n",
            "Epoch 4/20\n",
            "82/82 [==============================] - 0s 5ms/step - loss: 0.5371 - binary_accuracy: 0.7735 - val_loss: 0.5265 - val_binary_accuracy: 0.8099\n",
            "Epoch 5/20\n",
            "82/82 [==============================] - 0s 6ms/step - loss: 0.4329 - binary_accuracy: 0.8508 - val_loss: 0.4609 - val_binary_accuracy: 0.8094\n",
            "Epoch 6/20\n",
            "82/82 [==============================] - 1s 6ms/step - loss: 0.3492 - binary_accuracy: 0.8756 - val_loss: 0.4411 - val_binary_accuracy: 0.8126\n",
            "Epoch 7/20\n",
            "82/82 [==============================] - 1s 6ms/step - loss: 0.2956 - binary_accuracy: 0.8941 - val_loss: 0.4386 - val_binary_accuracy: 0.8094\n",
            "Epoch 8/20\n",
            "82/82 [==============================] - 0s 6ms/step - loss: 0.2583 - binary_accuracy: 0.9053 - val_loss: 0.4494 - val_binary_accuracy: 0.7996\n",
            "Epoch 9/20\n",
            "82/82 [==============================] - 0s 6ms/step - loss: 0.2299 - binary_accuracy: 0.9156 - val_loss: 0.4542 - val_binary_accuracy: 0.8014\n",
            "Epoch 10/20\n",
            "82/82 [==============================] - 0s 6ms/step - loss: 0.2053 - binary_accuracy: 0.9242 - val_loss: 0.4721 - val_binary_accuracy: 0.7943\n",
            "Epoch 11/20\n",
            "82/82 [==============================] - 1s 6ms/step - loss: 0.1862 - binary_accuracy: 0.9332 - val_loss: 0.4841 - val_binary_accuracy: 0.7934\n",
            "Epoch 12/20\n",
            "82/82 [==============================] - 0s 6ms/step - loss: 0.1687 - binary_accuracy: 0.9427 - val_loss: 0.4974 - val_binary_accuracy: 0.7916\n",
            "Epoch 13/20\n",
            "82/82 [==============================] - 1s 6ms/step - loss: 0.1545 - binary_accuracy: 0.9447 - val_loss: 0.5190 - val_binary_accuracy: 0.7885\n",
            "Epoch 14/20\n",
            "82/82 [==============================] - 1s 6ms/step - loss: 0.1416 - binary_accuracy: 0.9511 - val_loss: 0.5353 - val_binary_accuracy: 0.7863\n",
            "Epoch 15/20\n",
            "82/82 [==============================] - 0s 6ms/step - loss: 0.1294 - binary_accuracy: 0.9557 - val_loss: 0.5528 - val_binary_accuracy: 0.7854\n",
            "Epoch 16/20\n",
            "82/82 [==============================] - 0s 6ms/step - loss: 0.1203 - binary_accuracy: 0.9597 - val_loss: 0.5760 - val_binary_accuracy: 0.7823\n",
            "Epoch 17/20\n",
            "82/82 [==============================] - 0s 5ms/step - loss: 0.1102 - binary_accuracy: 0.9649 - val_loss: 0.5898 - val_binary_accuracy: 0.7907\n",
            "Epoch 18/20\n",
            "82/82 [==============================] - 0s 5ms/step - loss: 0.1030 - binary_accuracy: 0.9660 - val_loss: 0.6166 - val_binary_accuracy: 0.7792\n",
            "Epoch 19/20\n",
            "82/82 [==============================] - 0s 6ms/step - loss: 0.0955 - binary_accuracy: 0.9689 - val_loss: 0.6293 - val_binary_accuracy: 0.7841\n",
            "Epoch 20/20\n",
            "82/82 [==============================] - 0s 6ms/step - loss: 0.0888 - binary_accuracy: 0.9708 - val_loss: 0.6801 - val_binary_accuracy: 0.7516\n"
          ]
        }
      ],
      "source": [
        "\n",
        "model.compile(optimizer=tf.keras.optimizers.Adam(),\n",
        "              loss=tf.keras.losses.BinaryCrossentropy(),\n",
        "              metrics=[tf.keras.metrics.BinaryAccuracy()])\n",
        "\n",
        "history_embedding = model.fit(\n",
        "    train_batch,\n",
        "    validation_data=val_batch,\n",
        "    epochs=20)\n"
      ]
    },
    {
      "cell_type": "markdown",
      "metadata": {
        "id": "03nCk0_R5mWe"
      },
      "source": [
        "## Perfs"
      ]
    },
    {
      "cell_type": "code",
      "execution_count": 18,
      "metadata": {
        "colab": {
          "base_uri": "https://localhost:8080/",
          "height": 497
        },
        "id": "blEt0jjtRgoH",
        "outputId": "dd394204-fa5f-4a7f-fc35-24b47afecde7"
      },
      "outputs": [
        {
          "output_type": "display_data",
          "data": {
            "text/plain": [
              "<Figure size 864x576 with 1 Axes>"
            ],
            "image/png": "[encoded data removed]"
          },
          "metadata": {}
        }
      ],
      "source": [
        "# Visualization of the training process on the loss function \n",
        "plt.figure(figsize=(12, 8), facecolor=\"honeydew\")\n",
        "plt.plot(history_embedding.history[\"loss\"], color=\"b\", label='train')\n",
        "plt.plot(history_embedding.history[\"val_loss\"], color=\"r\", label='validation')\n",
        "plt.ylabel(\"Loss\")\n",
        "plt.xlabel(\"Epochs\")\n",
        "plt.legend();\n"
      ]
    },
    {
      "cell_type": "code",
      "execution_count": 19,
      "metadata": {
        "colab": {
          "base_uri": "https://localhost:8080/",
          "height": 497
        },
        "id": "XUiBAfcZRmX-",
        "outputId": "bf11e23b-94b4-41c4-c4f5-c0b0153c6bcb"
      },
      "outputs": [
        {
          "output_type": "display_data",
          "data": {
            "text/plain": [
              "<Figure size 864x576 with 1 Axes>"
            ],
            "image/png": "[encoded data removed]"
          },
          "metadata": {}
        }
      ],
      "source": [
        "# Visualization of accuracy training \n",
        "plt.figure(figsize=(12, 8), facecolor=\"honeydew\")\n",
        "plt.plot(history_embedding.history[\"binary_accuracy\"], color=\"b\", label='train')\n",
        "plt.plot(history_embedding.history[\"val_binary_accuracy\"], color=\"r\", label='validation')\n",
        "plt.ylabel(\"Accuracy\")\n",
        "plt.xlabel(\"Epochs\")\n",
        "plt.legend();\n"
      ]
    },
    {
      "cell_type": "markdown",
      "metadata": {
        "id": "WKe6LJz1FunV"
      },
      "source": [
        "# Text Classification with RNN"
      ]
    },
    {
      "cell_type": "markdown",
      "metadata": {
        "id": "xSUgAP735wBk"
      },
      "source": [
        "## Import datas"
      ]
    },
    {
      "cell_type": "code",
      "execution_count": 20,
      "metadata": {
        "colab": {
          "base_uri": "https://localhost:8080/",
          "height": 204
        },
        "id": "VNa3bUNvcEei",
        "outputId": "b5addf86-9515-4a21-ef3b-ad949c57f4e6"
      },
      "outputs": [
        {
          "output_type": "execute_result",
          "data": {
            "text/plain": [
              "   id keyword location                                               text  \\\n",
              "0   1     NaN      NaN  Our Deeds are the Reason of this #earthquake M...   \n",
              "1   4     NaN      NaN             Forest fire near La Ronge Sask. Canada   \n",
              "2   5     NaN      NaN  All residents asked to 'shelter in place' are ...   \n",
              "3   6     NaN      NaN  13,000 people receive #wildfires evacuation or...   \n",
              "4   7     NaN      NaN  Just got sent this photo from Ruby #Alaska as ...   \n",
              "\n",
              "   target  \n",
              "0       1  \n",
              "1       1  \n",
              "2       1  \n",
              "3       1  \n",
              "4       1  "
            ],
            "text/html": [
              "\n",
              "  <div id=\"df-cc336f32-6154-4152-8968-f313b6248164\">\n",
              "    <div class=\"colab-df-container\">\n",
              "      <div>\n",
              "<style scoped>\n",
              "    .dataframe tbody tr th:only-of-type {\n",
              "        vertical-align: middle;\n",
              "    }\n",
              "\n",
              "    .dataframe tbody tr th {\n",
              "        vertical-align: top;\n",
              "    }\n",
              "\n",
              "    .dataframe thead th {\n",
              "        text-align: right;\n",
              "    }\n",
              "</style>\n",
              "<table border=\"1\" class=\"dataframe\">\n",
              "  <thead>\n",
              "    <tr style=\"text-align: right;\">\n",
              "      <th></th>\n",
              "      <th>id</th>\n",
              "      <th>keyword</th>\n",
              "      <th>location</th>\n",
              "      <th>text</th>\n",
              "      <th>target</th>\n",
              "    </tr>\n",
              "  </thead>\n",
              "  <tbody>\n",
              "    <tr>\n",
              "      <th>0</th>\n",
              "      <td>1</td>\n",
              "      <td>NaN</td>\n",
              "      <td>NaN</td>\n",
              "      <td>Our Deeds are the Reason of this #earthquake M...</td>\n",
              "      <td>1</td>\n",
              "    </tr>\n",
              "    <tr>\n",
              "      <th>1</th>\n",
              "      <td>4</td>\n",
              "      <td>NaN</td>\n",
              "      <td>NaN</td>\n",
              "      <td>Forest fire near La Ronge Sask. Canada</td>\n",
              "      <td>1</td>\n",
              "    </tr>\n",
              "    <tr>\n",
              "      <th>2</th>\n",
              "      <td>5</td>\n",
              "      <td>NaN</td>\n",
              "      <td>NaN</td>\n",
              "      <td>All residents asked to 'shelter in place' are ...</td>\n",
              "      <td>1</td>\n",
              "    </tr>\n",
              "    <tr>\n",
              "      <th>3</th>\n",
              "      <td>6</td>\n",
              "      <td>NaN</td>\n",
              "      <td>NaN</td>\n",
              "      <td>13,000 people receive #wildfires evacuation or...</td>\n",
              "      <td>1</td>\n",
              "    </tr>\n",
              "    <tr>\n",
              "      <th>4</th>\n",
              "      <td>7</td>\n",
              "      <td>NaN</td>\n",
              "      <td>NaN</td>\n",
              "      <td>Just got sent this photo from Ruby #Alaska as ...</td>\n",
              "      <td>1</td>\n",
              "    </tr>\n",
              "  </tbody>\n",
              "</table>\n",
              "</div>\n",
              "      <button class=\"colab-df-convert\" onclick=\"convertToInteractive('df-cc336f32-6154-4152-8968-f313b6248164')\"\n",
              "              title=\"Convert this dataframe to an interactive table.\"\n",
              "              style=\"display:none;\">\n",
              "        \n",
              "  <svg xmlns=\"http://www.w3.org/2000/svg\" height=\"24px\"viewBox=\"0 0 24 24\"\n",
              "       width=\"24px\">\n",
              "    <path d=\"M0 0h24v24H0V0z\" fill=\"none\"/>\n",
              "    <path d=\"M18.56 5.44l.94 2.06.94-2.06 2.06-.94-2.06-.94-.94-2.06-.94 2.06-2.06.94zm-11 1L8.5 8.5l.94-2.06 2.06-.94-2.06-.94L8.5 2.5l-.94 2.06-2.06.94zm10 10l.94 2.06.94-2.06 2.06-.94-2.06-.94-.94-2.06-.94 2.06-2.06.94z\"/><path d=\"M17.41 7.96l-1.37-1.37c-.4-.4-.92-.59-1.43-.59-.52 0-1.04.2-1.43.59L10.3 9.45l-7.72 7.72c-.78.78-.78 2.05 0 2.83L4 21.41c.39.39.9.59 1.41.59.51 0 1.02-.2 1.41-.59l7.78-7.78 2.81-2.81c.8-.78.8-2.07 0-2.86zM5.41 20L4 18.59l7.72-7.72 1.47 1.35L5.41 20z\"/>\n",
              "  </svg>\n",
              "      </button>\n",
              "      \n",
              "  <style>\n",
              "    .colab-df-container {\n",
              "      display:flex;\n",
              "      flex-wrap:wrap;\n",
              "      gap: 12px;\n",
              "    }\n",
              "\n",
              "    .colab-df-convert {\n",
              "      background-color: #E8F0FE;\n",
              "      border: none;\n",
              "      border-radius: 50%;\n",
              "      cursor: pointer;\n",
              "      display: none;\n",
              "      fill: #1967D2;\n",
              "      height: 32px;\n",
              "      padding: 0 0 0 0;\n",
              "      width: 32px;\n",
              "    }\n",
              "\n",
              "    .colab-df-convert:hover {\n",
              "      background-color: #E2EBFA;\n",
              "      box-shadow: 0px 1px 2px rgba(60, 64, 67, 0.3), 0px 1px 3px 1px rgba(60, 64, 67, 0.15);\n",
              "      fill: #174EA6;\n",
              "    }\n",
              "\n",
              "    [theme=dark] .colab-df-convert {\n",
              "      background-color: #3B4455;\n",
              "      fill: #D2E3FC;\n",
              "    }\n",
              "\n",
              "    [theme=dark] .colab-df-convert:hover {\n",
              "      background-color: #434B5C;\n",
              "      box-shadow: 0px 1px 3px 1px rgba(0, 0, 0, 0.15);\n",
              "      filter: drop-shadow(0px 1px 2px rgba(0, 0, 0, 0.3));\n",
              "      fill: #FFFFFF;\n",
              "    }\n",
              "  </style>\n",
              "\n",
              "      <script>\n",
              "        const buttonEl =\n",
              "          document.querySelector('#df-cc336f32-6154-4152-8968-f313b6248164 button.colab-df-convert');\n",
              "        buttonEl.style.display =\n",
              "          google.colab.kernel.accessAllowed ? 'block' : 'none';\n",
              "\n",
              "        async function convertToInteractive(key) {\n",
              "          const element = document.querySelector('#df-cc336f32-6154-4152-8968-f313b6248164');\n",
              "          const dataTable =\n",
              "            await google.colab.kernel.invokeFunction('convertToInteractive',\n",
              "                                                     [key], {});\n",
              "          if (!dataTable) return;\n",
              "\n",
              "          const docLinkHtml = 'Like what you see? Visit the ' +\n",
              "            '<a target=\"_blank\" href=https://colab.research.google.com/notebooks/data_table.ipynb>data table notebook</a>'\n",
              "            + ' to learn more about interactive tables.';\n",
              "          element.innerHTML = '';\n",
              "          dataTable['output_type'] = 'display_data';\n",
              "          await google.colab.output.renderOutput(dataTable, element);\n",
              "          const docLink = document.createElement('div');\n",
              "          docLink.innerHTML = docLinkHtml;\n",
              "          element.appendChild(docLink);\n",
              "        }\n",
              "      </script>\n",
              "    </div>\n",
              "  </div>\n",
              "  "
            ]
          },
          "metadata": {},
          "execution_count": 20
        }
      ],
      "source": [
        "# df will be used to train and evaluate the model\n",
        "dataset = pd.read_csv('train.csv')\n",
        "dataset = dataset.drop_duplicates(subset = ['text'])\n",
        "#dataset = dataset.drop(['keyword', 'location'], axis=1)\n",
        "dataset.head()"
      ]
    },
    {
      "cell_type": "markdown",
      "metadata": {
        "id": "i4IgHMtocmc2"
      },
      "source": [
        "## Pre processing"
      ]
    },
    {
      "cell_type": "code",
      "execution_count": 21,
      "metadata": {
        "id": "dPCWYQazcmJG"
      },
      "outputs": [],
      "source": [
        "# Clean\n",
        "dataset[\"text_clean\"] = dataset[\"text\"].apply(lambda x:''.join(ch for ch in x if ch.isalnum() or ch==\" \"))\n",
        "dataset[\"text_clean\"] = dataset[\"text_clean\"].apply(lambda x: x.replace(\" +\",\" \").lower().strip())\n",
        "dataset[\"text_clean\"] = dataset[\"text_clean\"].apply(lambda x: \" \".join([token.lemma_ for token in nlp(x) if (token.lemma_ not in STOP_WORDS) & (token.text not in STOP_WORDS)]))\n",
        "\n",
        "# Encode\n",
        "tokenizer = tf.keras.preprocessing.text.Tokenizer(num_words=10000) # instanciate the tokenizer\n",
        "tokenizer.fit_on_texts(dataset.text_clean)\n",
        "dataset[\"text_encoded\"] = tokenizer.texts_to_sequences(dataset.text_clean)\n",
        "dataset[\"len_text\"] = dataset[\"text_encoded\"].apply(lambda x: len(x))\n",
        "dataset = dataset[dataset[\"len_text\"]!=0]\n",
        "\n",
        "# Pad\n",
        "dataset_pad = tf.keras.preprocessing.sequence.pad_sequences(df.text_encoded, padding=\"post\")\n",
        "\n",
        "# Tensor\n",
        "full_ds = tf.data.Dataset.from_tensor_slices((dataset_pad, dataset.target.values))\n",
        "\n",
        "# Split\n",
        "TAKE_SIZE = int(0.7*dataset.shape[0])\n",
        "\n",
        "train_data = full_ds.take(TAKE_SIZE).shuffle(TAKE_SIZE)\n",
        "train_data = train_data.batch(32)\n",
        "\n",
        "test_data = full_ds.skip(TAKE_SIZE)\n",
        "test_data = test_data.batch(32)"
      ]
    },
    {
      "cell_type": "code",
      "execution_count": 22,
      "metadata": {
        "colab": {
          "base_uri": "https://localhost:8080/"
        },
        "id": "IT7aAXs3uzMP",
        "outputId": "3c9524dc-b065-4c44-df49-c6d544d64de0"
      },
      "outputs": [
        {
          "output_type": "execute_result",
          "data": {
            "text/plain": [
              "<TakeDataset element_spec=(TensorSpec(shape=(None, 25), dtype=tf.int32, name=None), TensorSpec(shape=(None,), dtype=tf.int64, name=None))>"
            ]
          },
          "metadata": {},
          "execution_count": 22
        }
      ],
      "source": [
        "train_data.take(0)"
      ]
    },
    {
      "cell_type": "markdown",
      "metadata": {
        "id": "lPCE93VdHexE"
      },
      "source": [
        "## SimpleRNN\n"
      ]
    },
    {
      "cell_type": "markdown",
      "metadata": {
        "id": "djlmxh3U6P4E"
      },
      "source": [
        "### Model"
      ]
    },
    {
      "cell_type": "code",
      "execution_count": 23,
      "metadata": {
        "id": "KTLueu8Ld_RP"
      },
      "outputs": [],
      "source": [
        "from tensorflow.keras.layers import Embedding, SimpleRNN, Dense\n",
        "\n",
        "model2 = tf.keras.Sequential([\n",
        "                  # Word Embedding layer           \n",
        "                  Embedding(vocab_size + 1, 64, input_shape=[25,]),\n",
        "                  # Gobal average pooling\n",
        "                  SimpleRNN(units=64, return_sequences=True), # maintains the sequential nature\n",
        "                  SimpleRNN(units=32, return_sequences=False), # returns the last output\n",
        "                  # Dense layers once the data is flat\n",
        "                  Dense(32, activation='relu'),\n",
        "                  Dense(16, activation='relu'),\n",
        "\n",
        "                  # output layer with as many neurons as the number of classes\n",
        "                  # for the target variable and sigmoid activation\n",
        "                  Dense(1, activation='sigmoid')\n",
        "])\n",
        "model2._name = \"SimpleRNN\""
      ]
    },
    {
      "cell_type": "code",
      "execution_count": 24,
      "metadata": {
        "colab": {
          "base_uri": "https://localhost:8080/"
        },
        "id": "51g-2yR5gbeK",
        "outputId": "712a7d9b-a2f9-4210-fb1c-8989151c6350"
      },
      "outputs": [
        {
          "output_type": "stream",
          "name": "stdout",
          "text": [
            "Model: \"SimpleRNN\"\n",
            "_________________________________________________________________\n",
            " Layer (type)                Output Shape              Param #   \n",
            "=================================================================\n",
            " embedding (Embedding)       (None, 25, 64)            640064    \n",
            "                                                                 \n",
            " simple_rnn (SimpleRNN)      (None, 25, 64)            8256      \n",
            "                                                                 \n",
            " simple_rnn_1 (SimpleRNN)    (None, 32)                3104      \n",
            "                                                                 \n",
            " dense_2 (Dense)             (None, 32)                1056      \n",
            "                                                                 \n",
            " dense_3 (Dense)             (None, 16)                528       \n",
            "                                                                 \n",
            " dense_4 (Dense)             (None, 1)                 17        \n",
            "                                                                 \n",
            "=================================================================\n",
            "Total params: 653,025\n",
            "Trainable params: 653,025\n",
            "Non-trainable params: 0\n",
            "_________________________________________________________________\n"
          ]
        }
      ],
      "source": [
        "model2.summary()"
      ]
    },
    {
      "cell_type": "code",
      "execution_count": 25,
      "metadata": {
        "id": "BM-OhEA4f76a"
      },
      "outputs": [],
      "source": [
        "model2.compile(optimizer= tf.keras.optimizers.Adam(),\n",
        "              loss=tf.keras.losses.BinaryCrossentropy(),\n",
        "              metrics=[tf.keras.metrics.BinaryAccuracy()])"
      ]
    },
    {
      "cell_type": "code",
      "execution_count": 26,
      "metadata": {
        "colab": {
          "base_uri": "https://localhost:8080/"
        },
        "id": "NxlGc45agBZV",
        "outputId": "8527aaae-4261-4296-d309-67d7bc17c953"
      },
      "outputs": [
        {
          "output_type": "execute_result",
          "data": {
            "text/plain": [
              "0    4295\n",
              "1    3191\n",
              "Name: target, dtype: int64"
            ]
          },
          "metadata": {},
          "execution_count": 26
        }
      ],
      "source": [
        "(dataset[\"target\"]).value_counts()"
      ]
    },
    {
      "cell_type": "markdown",
      "metadata": {
        "id": "fE8HBiAY6A6M"
      },
      "source": [
        "### Weights to penalize too frequent evaluation"
      ]
    },
    {
      "cell_type": "code",
      "execution_count": 27,
      "metadata": {
        "colab": {
          "base_uri": "https://localhost:8080/"
        },
        "id": "oWV_rd8xgFxi",
        "outputId": "da030705-50ce-4143-9333-f83675fb7822"
      },
      "outputs": [
        {
          "output_type": "execute_result",
          "data": {
            "text/plain": [
              "{0: 0.8714784633294529, 1: 1.1729865246004387}"
            ]
          },
          "metadata": {},
          "execution_count": 27
        }
      ],
      "source": [
        "weights = 1/(dataset[\"target\"]).value_counts()\n",
        "weights = weights * len(dataset)/2\n",
        "weights = {index : values for index , values in zip(weights.index,weights.values)}\n",
        "weights"
      ]
    },
    {
      "cell_type": "code",
      "execution_count": 28,
      "metadata": {
        "colab": {
          "base_uri": "https://localhost:8080/"
        },
        "id": "0ujnQIX2gMzB",
        "outputId": "9779da88-9bf7-4f6d-d3d7-68d6afc09686"
      },
      "outputs": [
        {
          "output_type": "stream",
          "name": "stdout",
          "text": [
            "Epoch 1/20\n",
            "164/164 [==============================] - 7s 29ms/step - loss: 0.5917 - binary_accuracy: 0.6906 - val_loss: 0.5364 - val_binary_accuracy: 0.7373\n",
            "Epoch 2/20\n",
            "164/164 [==============================] - 4s 27ms/step - loss: 0.3770 - binary_accuracy: 0.8548 - val_loss: 0.5882 - val_binary_accuracy: 0.7351\n",
            "Epoch 3/20\n",
            "164/164 [==============================] - 4s 25ms/step - loss: 0.2703 - binary_accuracy: 0.9008 - val_loss: 0.6345 - val_binary_accuracy: 0.7386\n",
            "Epoch 4/20\n",
            "164/164 [==============================] - 4s 25ms/step - loss: 0.1796 - binary_accuracy: 0.9380 - val_loss: 0.6692 - val_binary_accuracy: 0.6968\n",
            "Epoch 5/20\n",
            "164/164 [==============================] - 5s 28ms/step - loss: 0.1101 - binary_accuracy: 0.9607 - val_loss: 0.8928 - val_binary_accuracy: 0.7226\n",
            "Epoch 6/20\n",
            "164/164 [==============================] - 4s 27ms/step - loss: 0.0911 - binary_accuracy: 0.9670 - val_loss: 0.9970 - val_binary_accuracy: 0.6776\n",
            "Epoch 7/20\n",
            "164/164 [==============================] - 4s 25ms/step - loss: 0.0559 - binary_accuracy: 0.9779 - val_loss: 1.1421 - val_binary_accuracy: 0.7110\n",
            "Epoch 8/20\n",
            "164/164 [==============================] - 6s 34ms/step - loss: 0.0587 - binary_accuracy: 0.9779 - val_loss: 1.1408 - val_binary_accuracy: 0.6981\n",
            "Epoch 9/20\n",
            "164/164 [==============================] - 4s 27ms/step - loss: 0.0451 - binary_accuracy: 0.9813 - val_loss: 1.0788 - val_binary_accuracy: 0.6906\n",
            "Epoch 10/20\n",
            "164/164 [==============================] - 4s 27ms/step - loss: 0.0514 - binary_accuracy: 0.9819 - val_loss: 1.2145 - val_binary_accuracy: 0.6701\n",
            "Epoch 11/20\n",
            "164/164 [==============================] - 4s 27ms/step - loss: 0.0422 - binary_accuracy: 0.9823 - val_loss: 1.3540 - val_binary_accuracy: 0.7039\n",
            "Epoch 12/20\n",
            "164/164 [==============================] - 5s 29ms/step - loss: 0.0364 - binary_accuracy: 0.9861 - val_loss: 1.2592 - val_binary_accuracy: 0.6621\n",
            "Epoch 13/20\n",
            "164/164 [==============================] - 6s 34ms/step - loss: 0.0284 - binary_accuracy: 0.9872 - val_loss: 1.2046 - val_binary_accuracy: 0.6750\n",
            "Epoch 14/20\n",
            "164/164 [==============================] - 4s 25ms/step - loss: 0.0410 - binary_accuracy: 0.9851 - val_loss: 1.1843 - val_binary_accuracy: 0.6959\n",
            "Epoch 15/20\n",
            "164/164 [==============================] - 4s 27ms/step - loss: 0.0360 - binary_accuracy: 0.9834 - val_loss: 1.5053 - val_binary_accuracy: 0.6750\n",
            "Epoch 16/20\n",
            "164/164 [==============================] - 4s 27ms/step - loss: 0.0334 - binary_accuracy: 0.9853 - val_loss: 1.3589 - val_binary_accuracy: 0.6937\n",
            "Epoch 17/20\n",
            "164/164 [==============================] - 5s 30ms/step - loss: 0.0448 - binary_accuracy: 0.9819 - val_loss: 1.4674 - val_binary_accuracy: 0.6808\n",
            "Epoch 18/20\n",
            "164/164 [==============================] - 9s 52ms/step - loss: 0.0427 - binary_accuracy: 0.9834 - val_loss: 1.5641 - val_binary_accuracy: 0.6866\n",
            "Epoch 19/20\n",
            "164/164 [==============================] - 5s 28ms/step - loss: 0.0280 - binary_accuracy: 0.9876 - val_loss: 1.7587 - val_binary_accuracy: 0.6674\n",
            "Epoch 20/20\n",
            "164/164 [==============================] - 4s 27ms/step - loss: 0.0327 - binary_accuracy: 0.9878 - val_loss: 1.1804 - val_binary_accuracy: 0.6892\n"
          ]
        }
      ],
      "source": [
        "# Model training \n",
        "history_RNN = model2.fit(train_data,\n",
        "          epochs=20, \n",
        "          validation_data=test_data,\n",
        "          class_weight=weights)"
      ]
    },
    {
      "cell_type": "markdown",
      "metadata": {
        "id": "pXvOcoB-9miH"
      },
      "source": [
        "### Save"
      ]
    },
    {
      "cell_type": "code",
      "execution_count": 29,
      "metadata": {
        "id": "3rtWuRVK9oIO"
      },
      "outputs": [],
      "source": [
        "model.save(\"model_simpleRNN.h5\")\n",
        "import json\n",
        "json.dump(model.history.history, open(\"simpleRNN_history.json\", 'w'))"
      ]
    },
    {
      "cell_type": "markdown",
      "metadata": {
        "id": "IYEfBfbc6Hb8"
      },
      "source": [
        "### Perfs"
      ]
    },
    {
      "cell_type": "code",
      "execution_count": 30,
      "metadata": {
        "colab": {
          "base_uri": "https://localhost:8080/",
          "height": 497
        },
        "id": "ZxD_INv4iVTR",
        "outputId": "d80d77c5-eee2-436a-ecdd-cbbf8ecc426d"
      },
      "outputs": [
        {
          "output_type": "display_data",
          "data": {
            "text/plain": [
              "<Figure size 864x576 with 1 Axes>"
            ],
            "image/png": "[encoded data removed]"
          },
          "metadata": {}
        }
      ],
      "source": [
        "# Visualization of the training process on the loss function \n",
        "plt.figure(figsize=(12, 8), facecolor=\"honeydew\")\n",
        "plt.plot(history_RNN.history[\"loss\"], color=\"b\", label='train')\n",
        "plt.plot(history_RNN.history[\"val_loss\"], color=\"r\", label='validation')\n",
        "plt.ylabel(\"Loss\")\n",
        "plt.xlabel(\"Epochs\")\n",
        "plt.legend();\n"
      ]
    },
    {
      "cell_type": "code",
      "execution_count": 31,
      "metadata": {
        "colab": {
          "base_uri": "https://localhost:8080/",
          "height": 497
        },
        "id": "H617-9CxicD4",
        "outputId": "196df5da-5f97-46f0-c0d5-783118cc8e58"
      },
      "outputs": [
        {
          "output_type": "display_data",
          "data": {
            "text/plain": [
              "<Figure size 864x576 with 1 Axes>"
            ],
            "image/png": "[encoded data removed]"
          },
          "metadata": {}
        }
      ],
      "source": [
        "# Visualization of accuracy training \n",
        "plt.figure(figsize=(12, 8), facecolor=\"honeydew\")\n",
        "plt.plot(history_RNN.history[\"binary_accuracy\"], color=\"b\", label='train')\n",
        "plt.plot(history_RNN.history[\"val_binary_accuracy\"], color=\"r\", label='validation')\n",
        "plt.ylabel(\"Accuracy\")\n",
        "plt.xlabel(\"Epochs\")\n",
        "plt.legend();\n"
      ]
    },
    {
      "cell_type": "markdown",
      "metadata": {
        "id": "eOk52G5R6WtM"
      },
      "source": [
        "## GRU"
      ]
    },
    {
      "cell_type": "code",
      "execution_count": 32,
      "metadata": {
        "colab": {
          "base_uri": "https://localhost:8080/"
        },
        "id": "rXn4-qTOd_K4",
        "outputId": "b59007c4-e2ea-4201-b64d-ece98ce74a45"
      },
      "outputs": [
        {
          "output_type": "stream",
          "name": "stdout",
          "text": [
            "Model: \"GRU\"\n",
            "_________________________________________________________________\n",
            " Layer (type)                Output Shape              Param #   \n",
            "=================================================================\n",
            " embedding_1 (Embedding)     (None, 25, 64)            640064    \n",
            "                                                                 \n",
            " gru (GRU)                   (None, 25, 64)            24960     \n",
            "                                                                 \n",
            " gru_1 (GRU)                 (None, 32)                9408      \n",
            "                                                                 \n",
            " dense_5 (Dense)             (None, 32)                1056      \n",
            "                                                                 \n",
            " dense_6 (Dense)             (None, 16)                528       \n",
            "                                                                 \n",
            " dense_7 (Dense)             (None, 1)                 17        \n",
            "                                                                 \n",
            "=================================================================\n",
            "Total params: 676,033\n",
            "Trainable params: 676,033\n",
            "Non-trainable params: 0\n",
            "_________________________________________________________________\n"
          ]
        }
      ],
      "source": [
        "from tensorflow.keras.layers import Embedding, Dense, GRU\n",
        "\n",
        "model_gru = tf.keras.Sequential([\n",
        "                  # Word Embedding layer           \n",
        "                  Embedding(vocab_size + 1, 64, input_shape=[25,]),\n",
        "                  # Gobal average pooling\n",
        "                  GRU(units=64, return_sequences=True), # maintains the sequential nature\n",
        "                  GRU(units=32, return_sequences=False), # returns the last output\n",
        "                  # Dense layers once the data is flat\n",
        "                  Dense(32, activation='relu'),\n",
        "                  Dense(16, activation='relu'),\n",
        "\n",
        "                  # output layer with as many neurons as the number of classes\n",
        "                  # for the target variable and sigmoid activation\n",
        "                  Dense(1, activation='sigmoid')\n",
        "])\n",
        "model_gru._name = \"GRU\"\n",
        "\n",
        "model_gru.summary()"
      ]
    },
    {
      "cell_type": "code",
      "execution_count": 33,
      "metadata": {
        "id": "WotzOrJid-8w"
      },
      "outputs": [],
      "source": [
        "model_gru.compile(optimizer=tf.keras.optimizers.Adam(),\n",
        "              loss=tf.keras.losses.BinaryCrossentropy(),\n",
        "              metrics=[tf.keras.metrics.BinaryAccuracy()])"
      ]
    },
    {
      "cell_type": "code",
      "execution_count": 34,
      "metadata": {
        "colab": {
          "base_uri": "https://localhost:8080/"
        },
        "id": "_OV6mcwYHxLs",
        "outputId": "9de4b3a3-fc6c-4c0a-f673-d1cb0811b4e4"
      },
      "outputs": [
        {
          "output_type": "stream",
          "name": "stdout",
          "text": [
            "Epoch 1/20\n",
            "164/164 [==============================] - 12s 50ms/step - loss: 0.6925 - binary_accuracy: 0.4899 - val_loss: 0.6925 - val_binary_accuracy: 0.5628\n",
            "Epoch 2/20\n",
            "164/164 [==============================] - 7s 43ms/step - loss: 0.6927 - binary_accuracy: 0.5252 - val_loss: 0.6959 - val_binary_accuracy: 0.4372\n",
            "Epoch 3/20\n",
            "164/164 [==============================] - 7s 43ms/step - loss: 0.6924 - binary_accuracy: 0.5374 - val_loss: 0.6936 - val_binary_accuracy: 0.4372\n",
            "Epoch 4/20\n",
            "164/164 [==============================] - 7s 45ms/step - loss: 0.6923 - binary_accuracy: 0.5624 - val_loss: 0.6916 - val_binary_accuracy: 0.5628\n",
            "Epoch 5/20\n",
            "164/164 [==============================] - 8s 46ms/step - loss: 0.6922 - binary_accuracy: 0.5561 - val_loss: 0.6918 - val_binary_accuracy: 0.5628\n",
            "Epoch 6/20\n",
            "164/164 [==============================] - 8s 50ms/step - loss: 0.6922 - binary_accuracy: 0.5784 - val_loss: 0.6918 - val_binary_accuracy: 0.5628\n",
            "Epoch 7/20\n",
            "164/164 [==============================] - 8s 49ms/step - loss: 0.6922 - binary_accuracy: 0.5784 - val_loss: 0.6919 - val_binary_accuracy: 0.5628\n",
            "Epoch 8/20\n",
            "164/164 [==============================] - 7s 46ms/step - loss: 0.6921 - binary_accuracy: 0.5784 - val_loss: 0.6920 - val_binary_accuracy: 0.5628\n",
            "Epoch 9/20\n",
            "164/164 [==============================] - 7s 44ms/step - loss: 0.6922 - binary_accuracy: 0.5784 - val_loss: 0.6920 - val_binary_accuracy: 0.5628\n",
            "Epoch 10/20\n",
            "164/164 [==============================] - 8s 51ms/step - loss: 0.6921 - binary_accuracy: 0.5784 - val_loss: 0.6920 - val_binary_accuracy: 0.5628\n",
            "Epoch 11/20\n",
            "164/164 [==============================] - 11s 67ms/step - loss: 0.6921 - binary_accuracy: 0.5784 - val_loss: 0.6919 - val_binary_accuracy: 0.5628\n",
            "Epoch 12/20\n",
            "164/164 [==============================] - 7s 43ms/step - loss: 0.6922 - binary_accuracy: 0.5784 - val_loss: 0.6930 - val_binary_accuracy: 0.5628\n",
            "Epoch 13/20\n",
            "164/164 [==============================] - 7s 46ms/step - loss: 0.6923 - binary_accuracy: 0.5693 - val_loss: 0.6920 - val_binary_accuracy: 0.5628\n",
            "Epoch 14/20\n",
            "164/164 [==============================] - 7s 46ms/step - loss: 0.6923 - binary_accuracy: 0.5784 - val_loss: 0.6920 - val_binary_accuracy: 0.5628\n",
            "Epoch 15/20\n",
            "164/164 [==============================] - 8s 46ms/step - loss: 0.6341 - binary_accuracy: 0.6561 - val_loss: 0.6090 - val_binary_accuracy: 0.7048\n",
            "Epoch 16/20\n",
            "164/164 [==============================] - 8s 49ms/step - loss: 0.4752 - binary_accuracy: 0.8088 - val_loss: 0.5870 - val_binary_accuracy: 0.7119\n",
            "Epoch 17/20\n",
            "164/164 [==============================] - 8s 46ms/step - loss: 0.3791 - binary_accuracy: 0.8550 - val_loss: 0.6130 - val_binary_accuracy: 0.6808\n",
            "Epoch 18/20\n",
            "164/164 [==============================] - 8s 47ms/step - loss: 0.2791 - binary_accuracy: 0.9015 - val_loss: 0.5884 - val_binary_accuracy: 0.7551\n",
            "Epoch 19/20\n",
            "164/164 [==============================] - 8s 50ms/step - loss: 0.1800 - binary_accuracy: 0.9395 - val_loss: 0.6427 - val_binary_accuracy: 0.7404\n",
            "Epoch 20/20\n",
            "164/164 [==============================] - 8s 46ms/step - loss: 0.1303 - binary_accuracy: 0.9601 - val_loss: 0.8002 - val_binary_accuracy: 0.7204\n"
          ]
        }
      ],
      "source": [
        "history_gru = model_gru.fit(train_data,\n",
        "              epochs=20, \n",
        "              validation_data=test_data,\n",
        "              class_weight=weights)"
      ]
    },
    {
      "cell_type": "markdown",
      "metadata": {
        "id": "y__Bj5Ri9uow"
      },
      "source": [
        "### Save"
      ]
    },
    {
      "cell_type": "code",
      "execution_count": 35,
      "metadata": {
        "id": "EbTWsgBR9uSH"
      },
      "outputs": [],
      "source": [
        "model_gru.save(\"model_gru.h5\")\n",
        "import json\n",
        "json.dump(model_gru.history.history, open(\"GRU_history.json\", 'w'))"
      ]
    },
    {
      "cell_type": "markdown",
      "metadata": {
        "id": "7M0v54QF9JDQ"
      },
      "source": [
        "## LSTM"
      ]
    },
    {
      "cell_type": "code",
      "execution_count": 36,
      "metadata": {
        "colab": {
          "base_uri": "https://localhost:8080/"
        },
        "id": "gdmhdjFV7omB",
        "outputId": "d8903efe-7604-41b1-9c2a-af741b2f96d3"
      },
      "outputs": [
        {
          "output_type": "stream",
          "name": "stdout",
          "text": [
            "Model: \"sequential_3\"\n",
            "_________________________________________________________________\n",
            " Layer (type)                Output Shape              Param #   \n",
            "=================================================================\n",
            " embedding_2 (Embedding)     (None, 25, 64)            640064    \n",
            "                                                                 \n",
            " lstm (LSTM)                 (None, 25, 64)            33024     \n",
            "                                                                 \n",
            " lstm_1 (LSTM)               (None, 32)                12416     \n",
            "                                                                 \n",
            " dense_8 (Dense)             (None, 32)                1056      \n",
            "                                                                 \n",
            " dense_9 (Dense)             (None, 16)                528       \n",
            "                                                                 \n",
            " dense_10 (Dense)            (None, 1)                 17        \n",
            "                                                                 \n",
            "=================================================================\n",
            "Total params: 687,105\n",
            "Trainable params: 687,105\n",
            "Non-trainable params: 0\n",
            "_________________________________________________________________\n"
          ]
        }
      ],
      "source": [
        "from tensorflow.keras.layers import Embedding, Dense, LSTM\n",
        "\n",
        "model_lstm = tf.keras.Sequential([\n",
        "                  # Word Embedding layer           \n",
        "                  Embedding(vocab_size + 1, 64, input_shape=[25,]),\n",
        "                  # Gobal average pooling\n",
        "                  LSTM(units=64, return_sequences=True), # maintains the sequential nature\n",
        "                  LSTM(units=32, return_sequences=False), # returns the last output\n",
        "                  # Dense layers once the data is flat\n",
        "                  Dense(32, activation='relu'),\n",
        "                  Dense(16, activation='relu'),\n",
        "\n",
        "                  # output layer with as many neurons as the number of classes\n",
        "                  # for the target variable and sigmoid activation\n",
        "                  Dense(1, activation='sigmoid')\n",
        "])\n",
        "model_gru._name = \"LSTM\"\n",
        "\n",
        "model_lstm.summary()"
      ]
    },
    {
      "cell_type": "code",
      "execution_count": 37,
      "metadata": {
        "id": "WTMr0U579IxJ"
      },
      "outputs": [],
      "source": [
        "model_lstm.compile(optimizer=tf.keras.optimizers.Adam(),\n",
        "              loss=tf.keras.losses.BinaryCrossentropy(),\n",
        "              metrics=[tf.keras.metrics.BinaryAccuracy()])"
      ]
    },
    {
      "cell_type": "code",
      "execution_count": 38,
      "metadata": {
        "colab": {
          "base_uri": "https://localhost:8080/"
        },
        "id": "WHmAzNjf9VbT",
        "outputId": "340babe9-da23-4989-c690-99f4a8c7ccdf"
      },
      "outputs": [
        {
          "output_type": "stream",
          "name": "stdout",
          "text": [
            "Epoch 1/20\n",
            "164/164 [==============================] - 14s 54ms/step - loss: 0.5994 - binary_accuracy: 0.6477 - val_loss: 0.5031 - val_binary_accuracy: 0.7685\n",
            "Epoch 2/20\n",
            "164/164 [==============================] - 9s 55ms/step - loss: 0.3461 - binary_accuracy: 0.8643 - val_loss: 0.5194 - val_binary_accuracy: 0.7458\n",
            "Epoch 3/20\n",
            "164/164 [==============================] - 7s 43ms/step - loss: 0.2262 - binary_accuracy: 0.9195 - val_loss: 0.6267 - val_binary_accuracy: 0.7409\n",
            "Epoch 4/20\n",
            "164/164 [==============================] - 7s 45ms/step - loss: 0.1640 - binary_accuracy: 0.9481 - val_loss: 0.8246 - val_binary_accuracy: 0.7226\n",
            "Epoch 5/20\n",
            "164/164 [==============================] - 8s 48ms/step - loss: 0.1257 - binary_accuracy: 0.9641 - val_loss: 0.7347 - val_binary_accuracy: 0.7329\n",
            "Epoch 6/20\n",
            "164/164 [==============================] - 8s 46ms/step - loss: 0.1062 - binary_accuracy: 0.9695 - val_loss: 1.0254 - val_binary_accuracy: 0.6732\n",
            "Epoch 7/20\n",
            "164/164 [==============================] - 8s 47ms/step - loss: 0.0912 - binary_accuracy: 0.9750 - val_loss: 0.9317 - val_binary_accuracy: 0.7061\n",
            "Epoch 8/20\n",
            "164/164 [==============================] - 8s 48ms/step - loss: 0.0888 - binary_accuracy: 0.9733 - val_loss: 1.1828 - val_binary_accuracy: 0.6972\n",
            "Epoch 9/20\n",
            "164/164 [==============================] - 8s 48ms/step - loss: 0.0662 - binary_accuracy: 0.9788 - val_loss: 1.3076 - val_binary_accuracy: 0.6808\n",
            "Epoch 10/20\n",
            "164/164 [==============================] - 8s 47ms/step - loss: 0.0616 - binary_accuracy: 0.9788 - val_loss: 1.1575 - val_binary_accuracy: 0.6959\n",
            "Epoch 11/20\n",
            "164/164 [==============================] - 8s 47ms/step - loss: 0.0547 - binary_accuracy: 0.9811 - val_loss: 1.4713 - val_binary_accuracy: 0.7004\n",
            "Epoch 12/20\n",
            "164/164 [==============================] - 8s 46ms/step - loss: 0.0426 - binary_accuracy: 0.9847 - val_loss: 1.5729 - val_binary_accuracy: 0.6861\n",
            "Epoch 13/20\n",
            "164/164 [==============================] - 8s 47ms/step - loss: 0.0426 - binary_accuracy: 0.9840 - val_loss: 1.4817 - val_binary_accuracy: 0.6941\n",
            "Epoch 14/20\n",
            "164/164 [==============================] - 8s 46ms/step - loss: 0.0401 - binary_accuracy: 0.9838 - val_loss: 1.6390 - val_binary_accuracy: 0.6794\n",
            "Epoch 15/20\n",
            "164/164 [==============================] - 9s 52ms/step - loss: 0.0374 - binary_accuracy: 0.9853 - val_loss: 1.8496 - val_binary_accuracy: 0.6825\n",
            "Epoch 16/20\n",
            "164/164 [==============================] - 8s 47ms/step - loss: 0.0399 - binary_accuracy: 0.9842 - val_loss: 1.7743 - val_binary_accuracy: 0.6710\n",
            "Epoch 17/20\n",
            "164/164 [==============================] - 8s 47ms/step - loss: 0.0326 - binary_accuracy: 0.9874 - val_loss: 1.8957 - val_binary_accuracy: 0.6768\n",
            "Epoch 18/20\n",
            "164/164 [==============================] - 8s 48ms/step - loss: 0.0401 - binary_accuracy: 0.9844 - val_loss: 1.5881 - val_binary_accuracy: 0.6848\n",
            "Epoch 19/20\n",
            "164/164 [==============================] - 8s 48ms/step - loss: 0.0510 - binary_accuracy: 0.9821 - val_loss: 1.4503 - val_binary_accuracy: 0.6812\n",
            "Epoch 20/20\n",
            "164/164 [==============================] - 7s 45ms/step - loss: 0.0394 - binary_accuracy: 0.9847 - val_loss: 1.6817 - val_binary_accuracy: 0.6794\n"
          ]
        }
      ],
      "source": [
        "history_lstm = model_lstm.fit(train_data,\n",
        "              epochs=20, \n",
        "              validation_data=test_data,\n",
        "              class_weight=weights)"
      ]
    },
    {
      "cell_type": "markdown",
      "metadata": {
        "id": "CHgAQo75-AeS"
      },
      "source": [
        "### Save"
      ]
    },
    {
      "cell_type": "code",
      "execution_count": 39,
      "metadata": {
        "id": "rM1bewcY9WRb"
      },
      "outputs": [],
      "source": [
        "model_lstm.save(\"model_lstm.h5\")\n",
        "import json\n",
        "json.dump(model_lstm.history.history, open(\"LSTM_history.json\", 'w'))"
      ]
    },
    {
      "cell_type": "markdown",
      "metadata": {
        "id": "5zvIZ5qA-Uwc"
      },
      "source": [
        "## Classification Evaluation"
      ]
    },
    {
      "cell_type": "markdown",
      "metadata": {
        "id": "OKyrySOM-af7"
      },
      "source": [
        "### Simple RNN"
      ]
    },
    {
      "cell_type": "code",
      "execution_count": 40,
      "metadata": {
        "colab": {
          "base_uri": "https://localhost:8080/",
          "height": 542
        },
        "id": "jZ8jpbQr-MaX",
        "outputId": "1e02f8a5-f084-444a-f7b1-48a529362743"
      },
      "outputs": [
        {
          "output_type": "display_data",
          "data": {
            "text/html": [
              "<html>\n",
              "<head><meta charset=\"utf-8\" /></head>\n",
              "<body>\n",
              "    <div>            <script src=\"https://cdnjs.cloudflare.com/ajax/libs/mathjax/2.7.5/MathJax.js?config=TeX-AMS-MML_SVG\"></script><script type=\"text/javascript\">if (window.MathJax) {MathJax.Hub.Config({SVG: {font: \"STIX-Web\"}});}</script>                <script type=\"text/javascript\">window.PlotlyConfig = {MathJaxConfig: 'local'};</script>\n",
              "        <script src=\"https://cdn.plot.ly/plotly-2.8.3.min.js\"></script>                <div id=\"60eef1d6-b6ed-4e2a-b6b7-d303a1746200\" class=\"plotly-graph-div\" style=\"height:525px; width:100%;\"></div>            <script type=\"text/javascript\">                                    window.PLOTLYENV=window.PLOTLYENV || {};                                    if (document.getElementById(\"60eef1d6-b6ed-4e2a-b6b7-d303a1746200\")) {                    Plotly.newPlot(                        \"60eef1d6-b6ed-4e2a-b6b7-d303a1746200\",                        [{\"mode\":\"lines\",\"name\":\"loss\",\"y\":[0.6822190284729004,0.66392582654953,0.6208415031433105,0.5370627045631409,0.4329380989074707,0.34920960664749146,0.29557493329048157,0.2582639455795288,0.2298879623413086,0.20532779395580292,0.1862465888261795,0.1687307506799698,0.15451598167419434,0.1416236162185669,0.12943512201309204,0.12025780230760574,0.1101585328578949,0.1029958724975586,0.09554625302553177,0.08877769857645035],\"type\":\"scatter\"},{\"mode\":\"lines\",\"name\":\"val_loss\",\"y\":[0.6668277978897095,0.6434583067893982,0.5916680693626404,0.5265407562255859,0.4608888030052185,0.44108662009239197,0.43859586119651794,0.4494444727897644,0.4542492926120758,0.47213584184646606,0.48414552211761475,0.49740365147590637,0.5190452933311462,0.5352947115898132,0.5527703166007996,0.57596755027771,0.5897509455680847,0.6165804862976074,0.6292626261711121,0.6800763010978699],\"type\":\"scatter\"}],                        {\"template\":{\"data\":{\"bar\":[{\"error_x\":{\"color\":\"#2a3f5f\"},\"error_y\":{\"color\":\"#2a3f5f\"},\"marker\":{\"line\":{\"color\":\"#E5ECF6\",\"width\":0.5},\"pattern\":{\"fillmode\":\"overlay\",\"size\":10,\"solidity\":0.2}},\"type\":\"bar\"}],\"barpolar\":[{\"marker\":{\"line\":{\"color\":\"#E5ECF6\",\"width\":0.5},\"pattern\":{\"fillmode\":\"overlay\",\"size\":10,\"solidity\":0.2}},\"type\":\"barpolar\"}],\"carpet\":[{\"aaxis\":{\"endlinecolor\":\"#2a3f5f\",\"gridcolor\":\"white\",\"linecolor\":\"white\",\"minorgridcolor\":\"white\",\"startlinecolor\":\"#2a3f5f\"},\"baxis\":{\"endlinecolor\":\"#2a3f5f\",\"gridcolor\":\"white\",\"linecolor\":\"white\",\"minorgridcolor\":\"white\",\"startlinecolor\":\"#2a3f5f\"},\"type\":\"carpet\"}],\"choropleth\":[{\"colorbar\":{\"outlinewidth\":0,\"ticks\":\"\"},\"type\":\"choropleth\"}],\"contour\":[{\"colorbar\":{\"outlinewidth\":0,\"ticks\":\"\"},\"colorscale\":[[0.0,\"#0d0887\"],[0.1111111111111111,\"#46039f\"],[0.2222222222222222,\"#7201a8\"],[0.3333333333333333,\"#9c179e\"],[0.4444444444444444,\"#bd3786\"],[0.5555555555555556,\"#d8576b\"],[0.6666666666666666,\"#ed7953\"],[0.7777777777777778,\"#fb9f3a\"],[0.8888888888888888,\"#fdca26\"],[1.0,\"#f0f921\"]],\"type\":\"contour\"}],\"contourcarpet\":[{\"colorbar\":{\"outlinewidth\":0,\"ticks\":\"\"},\"type\":\"contourcarpet\"}],\"heatmap\":[{\"colorbar\":{\"outlinewidth\":0,\"ticks\":\"\"},\"colorscale\":[[0.0,\"#0d0887\"],[0.1111111111111111,\"#46039f\"],[0.2222222222222222,\"#7201a8\"],[0.3333333333333333,\"#9c179e\"],[0.4444444444444444,\"#bd3786\"],[0.5555555555555556,\"#d8576b\"],[0.6666666666666666,\"#ed7953\"],[0.7777777777777778,\"#fb9f3a\"],[0.8888888888888888,\"#fdca26\"],[1.0,\"#f0f921\"]],\"type\":\"heatmap\"}],\"heatmapgl\":[{\"colorbar\":{\"outlinewidth\":0,\"ticks\":\"\"},\"colorscale\":[[0.0,\"#0d0887\"],[0.1111111111111111,\"#46039f\"],[0.2222222222222222,\"#7201a8\"],[0.3333333333333333,\"#9c179e\"],[0.4444444444444444,\"#bd3786\"],[0.5555555555555556,\"#d8576b\"],[0.6666666666666666,\"#ed7953\"],[0.7777777777777778,\"#fb9f3a\"],[0.8888888888888888,\"#fdca26\"],[1.0,\"#f0f921\"]],\"type\":\"heatmapgl\"}],\"histogram\":[{\"marker\":{\"pattern\":{\"fillmode\":\"overlay\",\"size\":10,\"solidity\":0.2}},\"type\":\"histogram\"}],\"histogram2d\":[{\"colorbar\":{\"outlinewidth\":0,\"ticks\":\"\"},\"colorscale\":[[0.0,\"#0d0887\"],[0.1111111111111111,\"#46039f\"],[0.2222222222222222,\"#7201a8\"],[0.3333333333333333,\"#9c179e\"],[0.4444444444444444,\"#bd3786\"],[0.5555555555555556,\"#d8576b\"],[0.6666666666666666,\"#ed7953\"],[0.7777777777777778,\"#fb9f3a\"],[0.8888888888888888,\"#fdca26\"],[1.0,\"#f0f921\"]],\"type\":\"histogram2d\"}],\"histogram2dcontour\":[{\"colorbar\":{\"outlinewidth\":0,\"ticks\":\"\"},\"colorscale\":[[0.0,\"#0d0887\"],[0.1111111111111111,\"#46039f\"],[0.2222222222222222,\"#7201a8\"],[0.3333333333333333,\"#9c179e\"],[0.4444444444444444,\"#bd3786\"],[0.5555555555555556,\"#d8576b\"],[0.6666666666666666,\"#ed7953\"],[0.7777777777777778,\"#fb9f3a\"],[0.8888888888888888,\"#fdca26\"],[1.0,\"#f0f921\"]],\"type\":\"histogram2dcontour\"}],\"mesh3d\":[{\"colorbar\":{\"outlinewidth\":0,\"ticks\":\"\"},\"type\":\"mesh3d\"}],\"parcoords\":[{\"line\":{\"colorbar\":{\"outlinewidth\":0,\"ticks\":\"\"}},\"type\":\"parcoords\"}],\"pie\":[{\"automargin\":true,\"type\":\"pie\"}],\"scatter\":[{\"marker\":{\"colorbar\":{\"outlinewidth\":0,\"ticks\":\"\"}},\"type\":\"scatter\"}],\"scatter3d\":[{\"line\":{\"colorbar\":{\"outlinewidth\":0,\"ticks\":\"\"}},\"marker\":{\"colorbar\":{\"outlinewidth\":0,\"ticks\":\"\"}},\"type\":\"scatter3d\"}],\"scattercarpet\":[{\"marker\":{\"colorbar\":{\"outlinewidth\":0,\"ticks\":\"\"}},\"type\":\"scattercarpet\"}],\"scattergeo\":[{\"marker\":{\"colorbar\":{\"outlinewidth\":0,\"ticks\":\"\"}},\"type\":\"scattergeo\"}],\"scattergl\":[{\"marker\":{\"colorbar\":{\"outlinewidth\":0,\"ticks\":\"\"}},\"type\":\"scattergl\"}],\"scattermapbox\":[{\"marker\":{\"colorbar\":{\"outlinewidth\":0,\"ticks\":\"\"}},\"type\":\"scattermapbox\"}],\"scatterpolar\":[{\"marker\":{\"colorbar\":{\"outlinewidth\":0,\"ticks\":\"\"}},\"type\":\"scatterpolar\"}],\"scatterpolargl\":[{\"marker\":{\"colorbar\":{\"outlinewidth\":0,\"ticks\":\"\"}},\"type\":\"scatterpolargl\"}],\"scatterternary\":[{\"marker\":{\"colorbar\":{\"outlinewidth\":0,\"ticks\":\"\"}},\"type\":\"scatterternary\"}],\"surface\":[{\"colorbar\":{\"outlinewidth\":0,\"ticks\":\"\"},\"colorscale\":[[0.0,\"#0d0887\"],[0.1111111111111111,\"#46039f\"],[0.2222222222222222,\"#7201a8\"],[0.3333333333333333,\"#9c179e\"],[0.4444444444444444,\"#bd3786\"],[0.5555555555555556,\"#d8576b\"],[0.6666666666666666,\"#ed7953\"],[0.7777777777777778,\"#fb9f3a\"],[0.8888888888888888,\"#fdca26\"],[1.0,\"#f0f921\"]],\"type\":\"surface\"}],\"table\":[{\"cells\":{\"fill\":{\"color\":\"#EBF0F8\"},\"line\":{\"color\":\"white\"}},\"header\":{\"fill\":{\"color\":\"#C8D4E3\"},\"line\":{\"color\":\"white\"}},\"type\":\"table\"}]},\"layout\":{\"annotationdefaults\":{\"arrowcolor\":\"#2a3f5f\",\"arrowhead\":0,\"arrowwidth\":1},\"autotypenumbers\":\"strict\",\"coloraxis\":{\"colorbar\":{\"outlinewidth\":0,\"ticks\":\"\"}},\"colorscale\":{\"diverging\":[[0,\"#8e0152\"],[0.1,\"#c51b7d\"],[0.2,\"#de77ae\"],[0.3,\"#f1b6da\"],[0.4,\"#fde0ef\"],[0.5,\"#f7f7f7\"],[0.6,\"#e6f5d0\"],[0.7,\"#b8e186\"],[0.8,\"#7fbc41\"],[0.9,\"#4d9221\"],[1,\"#276419\"]],\"sequential\":[[0.0,\"#0d0887\"],[0.1111111111111111,\"#46039f\"],[0.2222222222222222,\"#7201a8\"],[0.3333333333333333,\"#9c179e\"],[0.4444444444444444,\"#bd3786\"],[0.5555555555555556,\"#d8576b\"],[0.6666666666666666,\"#ed7953\"],[0.7777777777777778,\"#fb9f3a\"],[0.8888888888888888,\"#fdca26\"],[1.0,\"#f0f921\"]],\"sequentialminus\":[[0.0,\"#0d0887\"],[0.1111111111111111,\"#46039f\"],[0.2222222222222222,\"#7201a8\"],[0.3333333333333333,\"#9c179e\"],[0.4444444444444444,\"#bd3786\"],[0.5555555555555556,\"#d8576b\"],[0.6666666666666666,\"#ed7953\"],[0.7777777777777778,\"#fb9f3a\"],[0.8888888888888888,\"#fdca26\"],[1.0,\"#f0f921\"]]},\"colorway\":[\"#636efa\",\"#EF553B\",\"#00cc96\",\"#ab63fa\",\"#FFA15A\",\"#19d3f3\",\"#FF6692\",\"#B6E880\",\"#FF97FF\",\"#FECB52\"],\"font\":{\"color\":\"#2a3f5f\"},\"geo\":{\"bgcolor\":\"white\",\"lakecolor\":\"white\",\"landcolor\":\"#E5ECF6\",\"showlakes\":true,\"showland\":true,\"subunitcolor\":\"white\"},\"hoverlabel\":{\"align\":\"left\"},\"hovermode\":\"closest\",\"mapbox\":{\"style\":\"light\"},\"paper_bgcolor\":\"white\",\"plot_bgcolor\":\"#E5ECF6\",\"polar\":{\"angularaxis\":{\"gridcolor\":\"white\",\"linecolor\":\"white\",\"ticks\":\"\"},\"bgcolor\":\"#E5ECF6\",\"radialaxis\":{\"gridcolor\":\"white\",\"linecolor\":\"white\",\"ticks\":\"\"}},\"scene\":{\"xaxis\":{\"backgroundcolor\":\"#E5ECF6\",\"gridcolor\":\"white\",\"gridwidth\":2,\"linecolor\":\"white\",\"showbackground\":true,\"ticks\":\"\",\"zerolinecolor\":\"white\"},\"yaxis\":{\"backgroundcolor\":\"#E5ECF6\",\"gridcolor\":\"white\",\"gridwidth\":2,\"linecolor\":\"white\",\"showbackground\":true,\"ticks\":\"\",\"zerolinecolor\":\"white\"},\"zaxis\":{\"backgroundcolor\":\"#E5ECF6\",\"gridcolor\":\"white\",\"gridwidth\":2,\"linecolor\":\"white\",\"showbackground\":true,\"ticks\":\"\",\"zerolinecolor\":\"white\"}},\"shapedefaults\":{\"line\":{\"color\":\"#2a3f5f\"}},\"ternary\":{\"aaxis\":{\"gridcolor\":\"white\",\"linecolor\":\"white\",\"ticks\":\"\"},\"baxis\":{\"gridcolor\":\"white\",\"linecolor\":\"white\",\"ticks\":\"\"},\"bgcolor\":\"#E5ECF6\",\"caxis\":{\"gridcolor\":\"white\",\"linecolor\":\"white\",\"ticks\":\"\"}},\"title\":{\"x\":0.05},\"xaxis\":{\"automargin\":true,\"gridcolor\":\"white\",\"linecolor\":\"white\",\"ticks\":\"\",\"title\":{\"standoff\":15},\"zerolinecolor\":\"white\",\"zerolinewidth\":2},\"yaxis\":{\"automargin\":true,\"gridcolor\":\"white\",\"linecolor\":\"white\",\"ticks\":\"\",\"title\":{\"standoff\":15},\"zerolinecolor\":\"white\",\"zerolinewidth\":2}}}},                        {\"responsive\": true}                    ).then(function(){\n",
              "                            \n",
              "var gd = document.getElementById('60eef1d6-b6ed-4e2a-b6b7-d303a1746200');\n",
              "var x = new MutationObserver(function (mutations, observer) {{\n",
              "        var display = window.getComputedStyle(gd).display;\n",
              "        if (!display || display === 'none') {{\n",
              "            console.log([gd, 'removed!']);\n",
              "            Plotly.purge(gd);\n",
              "            observer.disconnect();\n",
              "        }}\n",
              "}});\n",
              "\n",
              "// Listen for the removal of the full notebook cells\n",
              "var notebookContainer = gd.closest('#notebook-container');\n",
              "if (notebookContainer) {{\n",
              "    x.observe(notebookContainer, {childList: true});\n",
              "}}\n",
              "\n",
              "// Listen for the clearing of the current output cell\n",
              "var outputEl = gd.closest('.output');\n",
              "if (outputEl) {{\n",
              "    x.observe(outputEl, {childList: true});\n",
              "}}\n",
              "\n",
              "                        })                };                            </script>        </div>\n",
              "</body>\n",
              "</html>"
            ]
          },
          "metadata": {}
        }
      ],
      "source": [
        "tf.keras.utils.get_file(\"/content/model_simpleRNN.h5\",\n",
        "                        origin=\"/src/\")\n",
        "\n",
        "tf.keras.utils.get_file(\"/content/simpleRNN_history.json\",\n",
        "                        origin=\"/src\")\n",
        "simpleRNN_history = json.load(open(\"/content/simpleRNN_history.json\", 'r'))\n",
        "model_simpleRNN = tf.keras.models.load_model(\"/content/model_simpleRNN.h5\")\n",
        "import plotly.graph_objects as go\n",
        "fig = go.Figure()\n",
        "fig.add_trace(go.Scatter(y=simpleRNN_history[\"loss\"],\n",
        "                    mode='lines',\n",
        "                    name='loss'))\n",
        "fig.add_trace(go.Scatter(y=simpleRNN_history[\"val_loss\"],\n",
        "                    mode='lines',\n",
        "                    name='val_loss'))\n",
        "fig.show()\n"
      ]
    },
    {
      "cell_type": "markdown",
      "metadata": {
        "id": "idGq_Cvz-im2"
      },
      "source": [
        "### GRU"
      ]
    },
    {
      "cell_type": "code",
      "execution_count": 41,
      "metadata": {
        "colab": {
          "base_uri": "https://localhost:8080/",
          "height": 37
        },
        "id": "WJR3Ex0k-jRk",
        "outputId": "58020f3e-dd4b-40cf-980b-3e629291a5e5"
      },
      "outputs": [
        {
          "output_type": "execute_result",
          "data": {
            "text/plain": [
              "'/content/model_gru.h5'"
            ],
            "application/vnd.google.colaboratory.intrinsic+json": {
              "type": "string"
            }
          },
          "metadata": {},
          "execution_count": 41
        }
      ],
      "source": [
        "tf.keras.utils.get_file(\"/content/model_gru.h5\", origin=\"/src/\")"
      ]
    },
    {
      "cell_type": "code",
      "execution_count": 42,
      "metadata": {
        "colab": {
          "base_uri": "https://localhost:8080/",
          "height": 37
        },
        "id": "McTTDCXp-lEg",
        "outputId": "ac7f112d-e430-45e4-c629-cb3f60e04e1b"
      },
      "outputs": [
        {
          "output_type": "execute_result",
          "data": {
            "text/plain": [
              "'/content/GRU_history.json'"
            ],
            "application/vnd.google.colaboratory.intrinsic+json": {
              "type": "string"
            }
          },
          "metadata": {},
          "execution_count": 42
        }
      ],
      "source": [
        "tf.keras.utils.get_file(\"/content/GRU_history.json\",\n",
        "                        origin=\"/src/\")"
      ]
    },
    {
      "cell_type": "code",
      "execution_count": 43,
      "metadata": {
        "id": "WRHadMPc_M1o"
      },
      "outputs": [],
      "source": [
        "GRU_history = json.load(open(\"/content/GRU_history.json\", 'r'))\n",
        "model_gru = tf.keras.models.load_model(\"/content/model_gru.h5\")"
      ]
    },
    {
      "cell_type": "code",
      "execution_count": 44,
      "metadata": {
        "colab": {
          "base_uri": "https://localhost:8080/",
          "height": 542
        },
        "id": "s_P3e7ZC_UWQ",
        "outputId": "4f04512f-16f3-468f-8daf-d9f306c4dd6b"
      },
      "outputs": [
        {
          "output_type": "display_data",
          "data": {
            "text/html": [
              "<html>\n",
              "<head><meta charset=\"utf-8\" /></head>\n",
              "<body>\n",
              "    <div>            <script src=\"https://cdnjs.cloudflare.com/ajax/libs/mathjax/2.7.5/MathJax.js?config=TeX-AMS-MML_SVG\"></script><script type=\"text/javascript\">if (window.MathJax) {MathJax.Hub.Config({SVG: {font: \"STIX-Web\"}});}</script>                <script type=\"text/javascript\">window.PlotlyConfig = {MathJaxConfig: 'local'};</script>\n",
              "        <script src=\"https://cdn.plot.ly/plotly-2.8.3.min.js\"></script>                <div id=\"4a9f4eee-ab7e-4537-99c7-a6e8cbb529c7\" class=\"plotly-graph-div\" style=\"height:525px; width:100%;\"></div>            <script type=\"text/javascript\">                                    window.PLOTLYENV=window.PLOTLYENV || {};                                    if (document.getElementById(\"4a9f4eee-ab7e-4537-99c7-a6e8cbb529c7\")) {                    Plotly.newPlot(                        \"4a9f4eee-ab7e-4537-99c7-a6e8cbb529c7\",                        [{\"mode\":\"lines\",\"name\":\"loss\",\"y\":[0.6925495862960815,0.6926823258399963,0.6924280524253845,0.6922942399978638,0.6922440528869629,0.6921856999397278,0.6921560168266296,0.6921475529670715,0.6921608448028564,0.6921480298042297,0.6921316981315613,0.6922439932823181,0.6922641396522522,0.6922603845596313,0.6341102123260498,0.4751873016357422,0.3791472017765045,0.27912062406539917,0.17998839914798737,0.13032956421375275],\"type\":\"scatter\"},{\"mode\":\"lines\",\"name\":\"val_loss\",\"y\":[0.6925320625305176,0.6959488987922668,0.6936416029930115,0.6915596723556519,0.6918115615844727,0.691802978515625,0.6918559670448303,0.6919951438903809,0.6920106410980225,0.6919533014297485,0.6918666958808899,0.6930407285690308,0.6920457482337952,0.6920143961906433,0.6090242862701416,0.5870487689971924,0.6130256056785583,0.5883815884590149,0.6426510810852051,0.8001973628997803],\"type\":\"scatter\"}],                        {\"template\":{\"data\":{\"bar\":[{\"error_x\":{\"color\":\"#2a3f5f\"},\"error_y\":{\"color\":\"#2a3f5f\"},\"marker\":{\"line\":{\"color\":\"#E5ECF6\",\"width\":0.5},\"pattern\":{\"fillmode\":\"overlay\",\"size\":10,\"solidity\":0.2}},\"type\":\"bar\"}],\"barpolar\":[{\"marker\":{\"line\":{\"color\":\"#E5ECF6\",\"width\":0.5},\"pattern\":{\"fillmode\":\"overlay\",\"size\":10,\"solidity\":0.2}},\"type\":\"barpolar\"}],\"carpet\":[{\"aaxis\":{\"endlinecolor\":\"#2a3f5f\",\"gridcolor\":\"white\",\"linecolor\":\"white\",\"minorgridcolor\":\"white\",\"startlinecolor\":\"#2a3f5f\"},\"baxis\":{\"endlinecolor\":\"#2a3f5f\",\"gridcolor\":\"white\",\"linecolor\":\"white\",\"minorgridcolor\":\"white\",\"startlinecolor\":\"#2a3f5f\"},\"type\":\"carpet\"}],\"choropleth\":[{\"colorbar\":{\"outlinewidth\":0,\"ticks\":\"\"},\"type\":\"choropleth\"}],\"contour\":[{\"colorbar\":{\"outlinewidth\":0,\"ticks\":\"\"},\"colorscale\":[[0.0,\"#0d0887\"],[0.1111111111111111,\"#46039f\"],[0.2222222222222222,\"#7201a8\"],[0.3333333333333333,\"#9c179e\"],[0.4444444444444444,\"#bd3786\"],[0.5555555555555556,\"#d8576b\"],[0.6666666666666666,\"#ed7953\"],[0.7777777777777778,\"#fb9f3a\"],[0.8888888888888888,\"#fdca26\"],[1.0,\"#f0f921\"]],\"type\":\"contour\"}],\"contourcarpet\":[{\"colorbar\":{\"outlinewidth\":0,\"ticks\":\"\"},\"type\":\"contourcarpet\"}],\"heatmap\":[{\"colorbar\":{\"outlinewidth\":0,\"ticks\":\"\"},\"colorscale\":[[0.0,\"#0d0887\"],[0.1111111111111111,\"#46039f\"],[0.2222222222222222,\"#7201a8\"],[0.3333333333333333,\"#9c179e\"],[0.4444444444444444,\"#bd3786\"],[0.5555555555555556,\"#d8576b\"],[0.6666666666666666,\"#ed7953\"],[0.7777777777777778,\"#fb9f3a\"],[0.8888888888888888,\"#fdca26\"],[1.0,\"#f0f921\"]],\"type\":\"heatmap\"}],\"heatmapgl\":[{\"colorbar\":{\"outlinewidth\":0,\"ticks\":\"\"},\"colorscale\":[[0.0,\"#0d0887\"],[0.1111111111111111,\"#46039f\"],[0.2222222222222222,\"#7201a8\"],[0.3333333333333333,\"#9c179e\"],[0.4444444444444444,\"#bd3786\"],[0.5555555555555556,\"#d8576b\"],[0.6666666666666666,\"#ed7953\"],[0.7777777777777778,\"#fb9f3a\"],[0.8888888888888888,\"#fdca26\"],[1.0,\"#f0f921\"]],\"type\":\"heatmapgl\"}],\"histogram\":[{\"marker\":{\"pattern\":{\"fillmode\":\"overlay\",\"size\":10,\"solidity\":0.2}},\"type\":\"histogram\"}],\"histogram2d\":[{\"colorbar\":{\"outlinewidth\":0,\"ticks\":\"\"},\"colorscale\":[[0.0,\"#0d0887\"],[0.1111111111111111,\"#46039f\"],[0.2222222222222222,\"#7201a8\"],[0.3333333333333333,\"#9c179e\"],[0.4444444444444444,\"#bd3786\"],[0.5555555555555556,\"#d8576b\"],[0.6666666666666666,\"#ed7953\"],[0.7777777777777778,\"#fb9f3a\"],[0.8888888888888888,\"#fdca26\"],[1.0,\"#f0f921\"]],\"type\":\"histogram2d\"}],\"histogram2dcontour\":[{\"colorbar\":{\"outlinewidth\":0,\"ticks\":\"\"},\"colorscale\":[[0.0,\"#0d0887\"],[0.1111111111111111,\"#46039f\"],[0.2222222222222222,\"#7201a8\"],[0.3333333333333333,\"#9c179e\"],[0.4444444444444444,\"#bd3786\"],[0.5555555555555556,\"#d8576b\"],[0.6666666666666666,\"#ed7953\"],[0.7777777777777778,\"#fb9f3a\"],[0.8888888888888888,\"#fdca26\"],[1.0,\"#f0f921\"]],\"type\":\"histogram2dcontour\"}],\"mesh3d\":[{\"colorbar\":{\"outlinewidth\":0,\"ticks\":\"\"},\"type\":\"mesh3d\"}],\"parcoords\":[{\"line\":{\"colorbar\":{\"outlinewidth\":0,\"ticks\":\"\"}},\"type\":\"parcoords\"}],\"pie\":[{\"automargin\":true,\"type\":\"pie\"}],\"scatter\":[{\"marker\":{\"colorbar\":{\"outlinewidth\":0,\"ticks\":\"\"}},\"type\":\"scatter\"}],\"scatter3d\":[{\"line\":{\"colorbar\":{\"outlinewidth\":0,\"ticks\":\"\"}},\"marker\":{\"colorbar\":{\"outlinewidth\":0,\"ticks\":\"\"}},\"type\":\"scatter3d\"}],\"scattercarpet\":[{\"marker\":{\"colorbar\":{\"outlinewidth\":0,\"ticks\":\"\"}},\"type\":\"scattercarpet\"}],\"scattergeo\":[{\"marker\":{\"colorbar\":{\"outlinewidth\":0,\"ticks\":\"\"}},\"type\":\"scattergeo\"}],\"scattergl\":[{\"marker\":{\"colorbar\":{\"outlinewidth\":0,\"ticks\":\"\"}},\"type\":\"scattergl\"}],\"scattermapbox\":[{\"marker\":{\"colorbar\":{\"outlinewidth\":0,\"ticks\":\"\"}},\"type\":\"scattermapbox\"}],\"scatterpolar\":[{\"marker\":{\"colorbar\":{\"outlinewidth\":0,\"ticks\":\"\"}},\"type\":\"scatterpolar\"}],\"scatterpolargl\":[{\"marker\":{\"colorbar\":{\"outlinewidth\":0,\"ticks\":\"\"}},\"type\":\"scatterpolargl\"}],\"scatterternary\":[{\"marker\":{\"colorbar\":{\"outlinewidth\":0,\"ticks\":\"\"}},\"type\":\"scatterternary\"}],\"surface\":[{\"colorbar\":{\"outlinewidth\":0,\"ticks\":\"\"},\"colorscale\":[[0.0,\"#0d0887\"],[0.1111111111111111,\"#46039f\"],[0.2222222222222222,\"#7201a8\"],[0.3333333333333333,\"#9c179e\"],[0.4444444444444444,\"#bd3786\"],[0.5555555555555556,\"#d8576b\"],[0.6666666666666666,\"#ed7953\"],[0.7777777777777778,\"#fb9f3a\"],[0.8888888888888888,\"#fdca26\"],[1.0,\"#f0f921\"]],\"type\":\"surface\"}],\"table\":[{\"cells\":{\"fill\":{\"color\":\"#EBF0F8\"},\"line\":{\"color\":\"white\"}},\"header\":{\"fill\":{\"color\":\"#C8D4E3\"},\"line\":{\"color\":\"white\"}},\"type\":\"table\"}]},\"layout\":{\"annotationdefaults\":{\"arrowcolor\":\"#2a3f5f\",\"arrowhead\":0,\"arrowwidth\":1},\"autotypenumbers\":\"strict\",\"coloraxis\":{\"colorbar\":{\"outlinewidth\":0,\"ticks\":\"\"}},\"colorscale\":{\"diverging\":[[0,\"#8e0152\"],[0.1,\"#c51b7d\"],[0.2,\"#de77ae\"],[0.3,\"#f1b6da\"],[0.4,\"#fde0ef\"],[0.5,\"#f7f7f7\"],[0.6,\"#e6f5d0\"],[0.7,\"#b8e186\"],[0.8,\"#7fbc41\"],[0.9,\"#4d9221\"],[1,\"#276419\"]],\"sequential\":[[0.0,\"#0d0887\"],[0.1111111111111111,\"#46039f\"],[0.2222222222222222,\"#7201a8\"],[0.3333333333333333,\"#9c179e\"],[0.4444444444444444,\"#bd3786\"],[0.5555555555555556,\"#d8576b\"],[0.6666666666666666,\"#ed7953\"],[0.7777777777777778,\"#fb9f3a\"],[0.8888888888888888,\"#fdca26\"],[1.0,\"#f0f921\"]],\"sequentialminus\":[[0.0,\"#0d0887\"],[0.1111111111111111,\"#46039f\"],[0.2222222222222222,\"#7201a8\"],[0.3333333333333333,\"#9c179e\"],[0.4444444444444444,\"#bd3786\"],[0.5555555555555556,\"#d8576b\"],[0.6666666666666666,\"#ed7953\"],[0.7777777777777778,\"#fb9f3a\"],[0.8888888888888888,\"#fdca26\"],[1.0,\"#f0f921\"]]},\"colorway\":[\"#636efa\",\"#EF553B\",\"#00cc96\",\"#ab63fa\",\"#FFA15A\",\"#19d3f3\",\"#FF6692\",\"#B6E880\",\"#FF97FF\",\"#FECB52\"],\"font\":{\"color\":\"#2a3f5f\"},\"geo\":{\"bgcolor\":\"white\",\"lakecolor\":\"white\",\"landcolor\":\"#E5ECF6\",\"showlakes\":true,\"showland\":true,\"subunitcolor\":\"white\"},\"hoverlabel\":{\"align\":\"left\"},\"hovermode\":\"closest\",\"mapbox\":{\"style\":\"light\"},\"paper_bgcolor\":\"white\",\"plot_bgcolor\":\"#E5ECF6\",\"polar\":{\"angularaxis\":{\"gridcolor\":\"white\",\"linecolor\":\"white\",\"ticks\":\"\"},\"bgcolor\":\"#E5ECF6\",\"radialaxis\":{\"gridcolor\":\"white\",\"linecolor\":\"white\",\"ticks\":\"\"}},\"scene\":{\"xaxis\":{\"backgroundcolor\":\"#E5ECF6\",\"gridcolor\":\"white\",\"gridwidth\":2,\"linecolor\":\"white\",\"showbackground\":true,\"ticks\":\"\",\"zerolinecolor\":\"white\"},\"yaxis\":{\"backgroundcolor\":\"#E5ECF6\",\"gridcolor\":\"white\",\"gridwidth\":2,\"linecolor\":\"white\",\"showbackground\":true,\"ticks\":\"\",\"zerolinecolor\":\"white\"},\"zaxis\":{\"backgroundcolor\":\"#E5ECF6\",\"gridcolor\":\"white\",\"gridwidth\":2,\"linecolor\":\"white\",\"showbackground\":true,\"ticks\":\"\",\"zerolinecolor\":\"white\"}},\"shapedefaults\":{\"line\":{\"color\":\"#2a3f5f\"}},\"ternary\":{\"aaxis\":{\"gridcolor\":\"white\",\"linecolor\":\"white\",\"ticks\":\"\"},\"baxis\":{\"gridcolor\":\"white\",\"linecolor\":\"white\",\"ticks\":\"\"},\"bgcolor\":\"#E5ECF6\",\"caxis\":{\"gridcolor\":\"white\",\"linecolor\":\"white\",\"ticks\":\"\"}},\"title\":{\"x\":0.05},\"xaxis\":{\"automargin\":true,\"gridcolor\":\"white\",\"linecolor\":\"white\",\"ticks\":\"\",\"title\":{\"standoff\":15},\"zerolinecolor\":\"white\",\"zerolinewidth\":2},\"yaxis\":{\"automargin\":true,\"gridcolor\":\"white\",\"linecolor\":\"white\",\"ticks\":\"\",\"title\":{\"standoff\":15},\"zerolinecolor\":\"white\",\"zerolinewidth\":2}}}},                        {\"responsive\": true}                    ).then(function(){\n",
              "                            \n",
              "var gd = document.getElementById('4a9f4eee-ab7e-4537-99c7-a6e8cbb529c7');\n",
              "var x = new MutationObserver(function (mutations, observer) {{\n",
              "        var display = window.getComputedStyle(gd).display;\n",
              "        if (!display || display === 'none') {{\n",
              "            console.log([gd, 'removed!']);\n",
              "            Plotly.purge(gd);\n",
              "            observer.disconnect();\n",
              "        }}\n",
              "}});\n",
              "\n",
              "// Listen for the removal of the full notebook cells\n",
              "var notebookContainer = gd.closest('#notebook-container');\n",
              "if (notebookContainer) {{\n",
              "    x.observe(notebookContainer, {childList: true});\n",
              "}}\n",
              "\n",
              "// Listen for the clearing of the current output cell\n",
              "var outputEl = gd.closest('.output');\n",
              "if (outputEl) {{\n",
              "    x.observe(outputEl, {childList: true});\n",
              "}}\n",
              "\n",
              "                        })                };                            </script>        </div>\n",
              "</body>\n",
              "</html>"
            ]
          },
          "metadata": {}
        }
      ],
      "source": [
        "import plotly.graph_objects as go\n",
        "fig = go.Figure()\n",
        "fig.add_trace(go.Scatter(y=GRU_history[\"loss\"],\n",
        "                    mode='lines',\n",
        "                    name='loss'))\n",
        "fig.add_trace(go.Scatter(y=GRU_history[\"val_loss\"],\n",
        "                    mode='lines',\n",
        "                    name='val_loss'))\n",
        "fig.show()"
      ]
    },
    {
      "cell_type": "markdown",
      "metadata": {
        "id": "_2BUupak_oB8"
      },
      "source": [
        "### LSTM"
      ]
    },
    {
      "cell_type": "code",
      "execution_count": 45,
      "metadata": {
        "colab": {
          "base_uri": "https://localhost:8080/",
          "height": 542
        },
        "id": "wV2L1X7h_WXU",
        "outputId": "df1ae1c2-566f-46ad-fabe-b309d47fe7a4"
      },
      "outputs": [
        {
          "output_type": "display_data",
          "data": {
            "text/html": [
              "<html>\n",
              "<head><meta charset=\"utf-8\" /></head>\n",
              "<body>\n",
              "    <div>            <script src=\"https://cdnjs.cloudflare.com/ajax/libs/mathjax/2.7.5/MathJax.js?config=TeX-AMS-MML_SVG\"></script><script type=\"text/javascript\">if (window.MathJax) {MathJax.Hub.Config({SVG: {font: \"STIX-Web\"}});}</script>                <script type=\"text/javascript\">window.PlotlyConfig = {MathJaxConfig: 'local'};</script>\n",
              "        <script src=\"https://cdn.plot.ly/plotly-2.8.3.min.js\"></script>                <div id=\"9f6c50bc-c102-4662-8955-5ccd323473e6\" class=\"plotly-graph-div\" style=\"height:525px; width:100%;\"></div>            <script type=\"text/javascript\">                                    window.PLOTLYENV=window.PLOTLYENV || {};                                    if (document.getElementById(\"9f6c50bc-c102-4662-8955-5ccd323473e6\")) {                    Plotly.newPlot(                        \"9f6c50bc-c102-4662-8955-5ccd323473e6\",                        [{\"mode\":\"lines\",\"name\":\"loss\",\"y\":[0.5993767976760864,0.3461418151855469,0.2262166291475296,0.16396383941173553,0.1256704330444336,0.10618206113576889,0.09122226387262344,0.08875614404678345,0.06620680540800095,0.061633870005607605,0.05474800989031792,0.04259118065237999,0.042627833783626556,0.04007675126194954,0.037436593323946,0.03994936868548393,0.03260309621691704,0.04011184722185135,0.05100445821881294,0.03935788944363594],\"type\":\"scatter\"},{\"mode\":\"lines\",\"name\":\"val_loss\",\"y\":[0.5031074285507202,0.5194182395935059,0.6266912221908569,0.8245871067047119,0.7346832752227783,1.0253925323486328,0.9317238926887512,1.1828243732452393,1.3076395988464355,1.1575413942337036,1.4713009595870972,1.5728790760040283,1.481681227684021,1.6389875411987305,1.8496280908584595,1.7743278741836548,1.8956736326217651,1.5881328582763672,1.4502753019332886,1.6816970109939575],\"type\":\"scatter\"}],                        {\"template\":{\"data\":{\"bar\":[{\"error_x\":{\"color\":\"#2a3f5f\"},\"error_y\":{\"color\":\"#2a3f5f\"},\"marker\":{\"line\":{\"color\":\"#E5ECF6\",\"width\":0.5},\"pattern\":{\"fillmode\":\"overlay\",\"size\":10,\"solidity\":0.2}},\"type\":\"bar\"}],\"barpolar\":[{\"marker\":{\"line\":{\"color\":\"#E5ECF6\",\"width\":0.5},\"pattern\":{\"fillmode\":\"overlay\",\"size\":10,\"solidity\":0.2}},\"type\":\"barpolar\"}],\"carpet\":[{\"aaxis\":{\"endlinecolor\":\"#2a3f5f\",\"gridcolor\":\"white\",\"linecolor\":\"white\",\"minorgridcolor\":\"white\",\"startlinecolor\":\"#2a3f5f\"},\"baxis\":{\"endlinecolor\":\"#2a3f5f\",\"gridcolor\":\"white\",\"linecolor\":\"white\",\"minorgridcolor\":\"white\",\"startlinecolor\":\"#2a3f5f\"},\"type\":\"carpet\"}],\"choropleth\":[{\"colorbar\":{\"outlinewidth\":0,\"ticks\":\"\"},\"type\":\"choropleth\"}],\"contour\":[{\"colorbar\":{\"outlinewidth\":0,\"ticks\":\"\"},\"colorscale\":[[0.0,\"#0d0887\"],[0.1111111111111111,\"#46039f\"],[0.2222222222222222,\"#7201a8\"],[0.3333333333333333,\"#9c179e\"],[0.4444444444444444,\"#bd3786\"],[0.5555555555555556,\"#d8576b\"],[0.6666666666666666,\"#ed7953\"],[0.7777777777777778,\"#fb9f3a\"],[0.8888888888888888,\"#fdca26\"],[1.0,\"#f0f921\"]],\"type\":\"contour\"}],\"contourcarpet\":[{\"colorbar\":{\"outlinewidth\":0,\"ticks\":\"\"},\"type\":\"contourcarpet\"}],\"heatmap\":[{\"colorbar\":{\"outlinewidth\":0,\"ticks\":\"\"},\"colorscale\":[[0.0,\"#0d0887\"],[0.1111111111111111,\"#46039f\"],[0.2222222222222222,\"#7201a8\"],[0.3333333333333333,\"#9c179e\"],[0.4444444444444444,\"#bd3786\"],[0.5555555555555556,\"#d8576b\"],[0.6666666666666666,\"#ed7953\"],[0.7777777777777778,\"#fb9f3a\"],[0.8888888888888888,\"#fdca26\"],[1.0,\"#f0f921\"]],\"type\":\"heatmap\"}],\"heatmapgl\":[{\"colorbar\":{\"outlinewidth\":0,\"ticks\":\"\"},\"colorscale\":[[0.0,\"#0d0887\"],[0.1111111111111111,\"#46039f\"],[0.2222222222222222,\"#7201a8\"],[0.3333333333333333,\"#9c179e\"],[0.4444444444444444,\"#bd3786\"],[0.5555555555555556,\"#d8576b\"],[0.6666666666666666,\"#ed7953\"],[0.7777777777777778,\"#fb9f3a\"],[0.8888888888888888,\"#fdca26\"],[1.0,\"#f0f921\"]],\"type\":\"heatmapgl\"}],\"histogram\":[{\"marker\":{\"pattern\":{\"fillmode\":\"overlay\",\"size\":10,\"solidity\":0.2}},\"type\":\"histogram\"}],\"histogram2d\":[{\"colorbar\":{\"outlinewidth\":0,\"ticks\":\"\"},\"colorscale\":[[0.0,\"#0d0887\"],[0.1111111111111111,\"#46039f\"],[0.2222222222222222,\"#7201a8\"],[0.3333333333333333,\"#9c179e\"],[0.4444444444444444,\"#bd3786\"],[0.5555555555555556,\"#d8576b\"],[0.6666666666666666,\"#ed7953\"],[0.7777777777777778,\"#fb9f3a\"],[0.8888888888888888,\"#fdca26\"],[1.0,\"#f0f921\"]],\"type\":\"histogram2d\"}],\"histogram2dcontour\":[{\"colorbar\":{\"outlinewidth\":0,\"ticks\":\"\"},\"colorscale\":[[0.0,\"#0d0887\"],[0.1111111111111111,\"#46039f\"],[0.2222222222222222,\"#7201a8\"],[0.3333333333333333,\"#9c179e\"],[0.4444444444444444,\"#bd3786\"],[0.5555555555555556,\"#d8576b\"],[0.6666666666666666,\"#ed7953\"],[0.7777777777777778,\"#fb9f3a\"],[0.8888888888888888,\"#fdca26\"],[1.0,\"#f0f921\"]],\"type\":\"histogram2dcontour\"}],\"mesh3d\":[{\"colorbar\":{\"outlinewidth\":0,\"ticks\":\"\"},\"type\":\"mesh3d\"}],\"parcoords\":[{\"line\":{\"colorbar\":{\"outlinewidth\":0,\"ticks\":\"\"}},\"type\":\"parcoords\"}],\"pie\":[{\"automargin\":true,\"type\":\"pie\"}],\"scatter\":[{\"marker\":{\"colorbar\":{\"outlinewidth\":0,\"ticks\":\"\"}},\"type\":\"scatter\"}],\"scatter3d\":[{\"line\":{\"colorbar\":{\"outlinewidth\":0,\"ticks\":\"\"}},\"marker\":{\"colorbar\":{\"outlinewidth\":0,\"ticks\":\"\"}},\"type\":\"scatter3d\"}],\"scattercarpet\":[{\"marker\":{\"colorbar\":{\"outlinewidth\":0,\"ticks\":\"\"}},\"type\":\"scattercarpet\"}],\"scattergeo\":[{\"marker\":{\"colorbar\":{\"outlinewidth\":0,\"ticks\":\"\"}},\"type\":\"scattergeo\"}],\"scattergl\":[{\"marker\":{\"colorbar\":{\"outlinewidth\":0,\"ticks\":\"\"}},\"type\":\"scattergl\"}],\"scattermapbox\":[{\"marker\":{\"colorbar\":{\"outlinewidth\":0,\"ticks\":\"\"}},\"type\":\"scattermapbox\"}],\"scatterpolar\":[{\"marker\":{\"colorbar\":{\"outlinewidth\":0,\"ticks\":\"\"}},\"type\":\"scatterpolar\"}],\"scatterpolargl\":[{\"marker\":{\"colorbar\":{\"outlinewidth\":0,\"ticks\":\"\"}},\"type\":\"scatterpolargl\"}],\"scatterternary\":[{\"marker\":{\"colorbar\":{\"outlinewidth\":0,\"ticks\":\"\"}},\"type\":\"scatterternary\"}],\"surface\":[{\"colorbar\":{\"outlinewidth\":0,\"ticks\":\"\"},\"colorscale\":[[0.0,\"#0d0887\"],[0.1111111111111111,\"#46039f\"],[0.2222222222222222,\"#7201a8\"],[0.3333333333333333,\"#9c179e\"],[0.4444444444444444,\"#bd3786\"],[0.5555555555555556,\"#d8576b\"],[0.6666666666666666,\"#ed7953\"],[0.7777777777777778,\"#fb9f3a\"],[0.8888888888888888,\"#fdca26\"],[1.0,\"#f0f921\"]],\"type\":\"surface\"}],\"table\":[{\"cells\":{\"fill\":{\"color\":\"#EBF0F8\"},\"line\":{\"color\":\"white\"}},\"header\":{\"fill\":{\"color\":\"#C8D4E3\"},\"line\":{\"color\":\"white\"}},\"type\":\"table\"}]},\"layout\":{\"annotationdefaults\":{\"arrowcolor\":\"#2a3f5f\",\"arrowhead\":0,\"arrowwidth\":1},\"autotypenumbers\":\"strict\",\"coloraxis\":{\"colorbar\":{\"outlinewidth\":0,\"ticks\":\"\"}},\"colorscale\":{\"diverging\":[[0,\"#8e0152\"],[0.1,\"#c51b7d\"],[0.2,\"#de77ae\"],[0.3,\"#f1b6da\"],[0.4,\"#fde0ef\"],[0.5,\"#f7f7f7\"],[0.6,\"#e6f5d0\"],[0.7,\"#b8e186\"],[0.8,\"#7fbc41\"],[0.9,\"#4d9221\"],[1,\"#276419\"]],\"sequential\":[[0.0,\"#0d0887\"],[0.1111111111111111,\"#46039f\"],[0.2222222222222222,\"#7201a8\"],[0.3333333333333333,\"#9c179e\"],[0.4444444444444444,\"#bd3786\"],[0.5555555555555556,\"#d8576b\"],[0.6666666666666666,\"#ed7953\"],[0.7777777777777778,\"#fb9f3a\"],[0.8888888888888888,\"#fdca26\"],[1.0,\"#f0f921\"]],\"sequentialminus\":[[0.0,\"#0d0887\"],[0.1111111111111111,\"#46039f\"],[0.2222222222222222,\"#7201a8\"],[0.3333333333333333,\"#9c179e\"],[0.4444444444444444,\"#bd3786\"],[0.5555555555555556,\"#d8576b\"],[0.6666666666666666,\"#ed7953\"],[0.7777777777777778,\"#fb9f3a\"],[0.8888888888888888,\"#fdca26\"],[1.0,\"#f0f921\"]]},\"colorway\":[\"#636efa\",\"#EF553B\",\"#00cc96\",\"#ab63fa\",\"#FFA15A\",\"#19d3f3\",\"#FF6692\",\"#B6E880\",\"#FF97FF\",\"#FECB52\"],\"font\":{\"color\":\"#2a3f5f\"},\"geo\":{\"bgcolor\":\"white\",\"lakecolor\":\"white\",\"landcolor\":\"#E5ECF6\",\"showlakes\":true,\"showland\":true,\"subunitcolor\":\"white\"},\"hoverlabel\":{\"align\":\"left\"},\"hovermode\":\"closest\",\"mapbox\":{\"style\":\"light\"},\"paper_bgcolor\":\"white\",\"plot_bgcolor\":\"#E5ECF6\",\"polar\":{\"angularaxis\":{\"gridcolor\":\"white\",\"linecolor\":\"white\",\"ticks\":\"\"},\"bgcolor\":\"#E5ECF6\",\"radialaxis\":{\"gridcolor\":\"white\",\"linecolor\":\"white\",\"ticks\":\"\"}},\"scene\":{\"xaxis\":{\"backgroundcolor\":\"#E5ECF6\",\"gridcolor\":\"white\",\"gridwidth\":2,\"linecolor\":\"white\",\"showbackground\":true,\"ticks\":\"\",\"zerolinecolor\":\"white\"},\"yaxis\":{\"backgroundcolor\":\"#E5ECF6\",\"gridcolor\":\"white\",\"gridwidth\":2,\"linecolor\":\"white\",\"showbackground\":true,\"ticks\":\"\",\"zerolinecolor\":\"white\"},\"zaxis\":{\"backgroundcolor\":\"#E5ECF6\",\"gridcolor\":\"white\",\"gridwidth\":2,\"linecolor\":\"white\",\"showbackground\":true,\"ticks\":\"\",\"zerolinecolor\":\"white\"}},\"shapedefaults\":{\"line\":{\"color\":\"#2a3f5f\"}},\"ternary\":{\"aaxis\":{\"gridcolor\":\"white\",\"linecolor\":\"white\",\"ticks\":\"\"},\"baxis\":{\"gridcolor\":\"white\",\"linecolor\":\"white\",\"ticks\":\"\"},\"bgcolor\":\"#E5ECF6\",\"caxis\":{\"gridcolor\":\"white\",\"linecolor\":\"white\",\"ticks\":\"\"}},\"title\":{\"x\":0.05},\"xaxis\":{\"automargin\":true,\"gridcolor\":\"white\",\"linecolor\":\"white\",\"ticks\":\"\",\"title\":{\"standoff\":15},\"zerolinecolor\":\"white\",\"zerolinewidth\":2},\"yaxis\":{\"automargin\":true,\"gridcolor\":\"white\",\"linecolor\":\"white\",\"ticks\":\"\",\"title\":{\"standoff\":15},\"zerolinecolor\":\"white\",\"zerolinewidth\":2}}}},                        {\"responsive\": true}                    ).then(function(){\n",
              "                            \n",
              "var gd = document.getElementById('9f6c50bc-c102-4662-8955-5ccd323473e6');\n",
              "var x = new MutationObserver(function (mutations, observer) {{\n",
              "        var display = window.getComputedStyle(gd).display;\n",
              "        if (!display || display === 'none') {{\n",
              "            console.log([gd, 'removed!']);\n",
              "            Plotly.purge(gd);\n",
              "            observer.disconnect();\n",
              "        }}\n",
              "}});\n",
              "\n",
              "// Listen for the removal of the full notebook cells\n",
              "var notebookContainer = gd.closest('#notebook-container');\n",
              "if (notebookContainer) {{\n",
              "    x.observe(notebookContainer, {childList: true});\n",
              "}}\n",
              "\n",
              "// Listen for the clearing of the current output cell\n",
              "var outputEl = gd.closest('.output');\n",
              "if (outputEl) {{\n",
              "    x.observe(outputEl, {childList: true});\n",
              "}}\n",
              "\n",
              "                        })                };                            </script>        </div>\n",
              "</body>\n",
              "</html>"
            ]
          },
          "metadata": {}
        }
      ],
      "source": [
        "tf.keras.utils.get_file(\"/content/model_lstm.h5\",\n",
        "                        origin=\"/src/\")\n",
        "tf.keras.utils.get_file(\"/content/LSTM_history.json\",\n",
        "                        origin=\"/src/\")\n",
        "LSTM_history = json.load(open(\"/content/LSTM_history.json\", 'r'))\n",
        "model_lstm = tf.keras.models.load_model(\"/content/model_lstm.h5\")\n",
        "\n",
        "import plotly.graph_objects as go\n",
        "fig = go.Figure()\n",
        "fig.add_trace(go.Scatter(y=LSTM_history[\"loss\"],\n",
        "                    mode='lines',\n",
        "                    name='loss'))\n",
        "fig.add_trace(go.Scatter(y=LSTM_history[\"val_loss\"],\n",
        "                    mode='lines',\n",
        "                    name='val_loss'))\n",
        "fig.show()\n"
      ]
    },
    {
      "cell_type": "markdown",
      "metadata": {
        "id": "jly_xNtgC-vB"
      },
      "source": [
        "# Conclusion"
      ]
    },
    {
      "cell_type": "markdown",
      "metadata": {
        "id": "yVsCHQqtETK4"
      },
      "source": [
        "* All of our models aren't efficient\n",
        "  * Embedding model and GRU model fail approximately at the 3rd epoch\n",
        "  * LSTM fail immediately <br>\n",
        "<br>\n",
        "* Need to do a better preprocess on datas\n",
        "* Need to train a pre trained model to do transfer learning or Word2Vec model for example."
      ]
    }
  ],
  "metadata": {
    "colab": {
      "name": "NLP_Project_Real_or_Not_NLP_with_Disaster.ipynb",
      "provenance": []
    },
    "kernelspec": {
      "display_name": "Python 3.9.12 ('base')",
      "language": "python",
      "name": "python3"
    },
    "language_info": {
      "codemirror_mode": {
        "name": "ipython",
        "version": 3
      },
      "file_extension": ".py",
      "mimetype": "text/x-python",
      "name": "python",
      "nbconvert_exporter": "python",
      "pygments_lexer": "ipython3",
      "version": "3.9.12"
    },
    "orig_nbformat": 2,
    "vscode": {
      "interpreter": {
        "hash": "5e23285782446c6864c996c28c3fd325702bb6068d9fb9865cc2d1c7e1d13946"
      }
    }
  },
  "nbformat": 4,
  "nbformat_minor": 0
}